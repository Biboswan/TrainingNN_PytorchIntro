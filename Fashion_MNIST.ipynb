{
  "nbformat": 4,
  "nbformat_minor": 0,
  "metadata": {
    "colab": {
      "name": "Fashion-MNIST.ipynb",
      "version": "0.3.2",
      "provenance": [],
      "include_colab_link": true
    },
    "kernelspec": {
      "name": "python3",
      "display_name": "Python 3"
    }
  },
  "cells": [
    {
      "cell_type": "markdown",
      "metadata": {
        "id": "view-in-github",
        "colab_type": "text"
      },
      "source": [
        "<a href=\"https://colab.research.google.com/github/Biboswan/TrainingNN_PytorchIntro/blob/master/Fashion_MNIST.ipynb\" target=\"_parent\"><img src=\"https://colab.research.google.com/assets/colab-badge.svg\" alt=\"Open In Colab\"/></a>"
      ]
    },
    {
      "metadata": {
        "id": "S_1fNxxKpR3c",
        "colab_type": "code",
        "colab": {}
      },
      "cell_type": "code",
      "source": [
        "# http://pytorch.org/\n",
        "from os.path import exists\n",
        "from wheel.pep425tags import get_abbr_impl, get_impl_ver, get_abi_tag\n",
        "platform = '{}{}-{}'.format(get_abbr_impl(), get_impl_ver(), get_abi_tag())\n",
        "cuda_output = !ldconfig -p|grep cudart.so|sed -e 's/.*\\.\\([0-9]*\\)\\.\\([0-9]*\\)$/cu\\1\\2/'\n",
        "accelerator = cuda_output[0] if exists('/dev/nvidia0') else 'cpu'\n",
        "\n",
        "!pip install -q http://download.pytorch.org/whl/{accelerator}/torch-0.4.1-{platform}-linux_x86_64.whl torchvision\n",
        "import torch"
      ],
      "execution_count": 0,
      "outputs": []
    },
    {
      "metadata": {
        "id": "gQ7uRYZoqShz",
        "colab_type": "code",
        "colab": {}
      },
      "cell_type": "code",
      "source": [
        "%matplotlib inline\n",
        "%config InlineBackend.figure_format = 'retina'\n",
        "import numpy as np\n",
        "import matplotlib.pyplot as plt\n",
        "\n"
      ],
      "execution_count": 0,
      "outputs": []
    },
    {
      "metadata": {
        "id": "ItngSTgbtnWA",
        "colab_type": "code",
        "outputId": "e69d6fb5-c771-453c-d6c8-65de2fd8ac51",
        "colab": {
          "base_uri": "https://localhost:8080/",
          "height": 34
        }
      },
      "cell_type": "code",
      "source": [
        "torch.manual_seed(7)"
      ],
      "execution_count": 3,
      "outputs": [
        {
          "output_type": "execute_result",
          "data": {
            "text/plain": [
              "<torch._C.Generator at 0x7fc91c6d8ed0>"
            ]
          },
          "metadata": {
            "tags": []
          },
          "execution_count": 3
        }
      ]
    },
    {
      "metadata": {
        "id": "WdvOd-o7qiJf",
        "colab_type": "code",
        "colab": {
          "base_uri": "https://localhost:8080/",
          "height": 119
        },
        "outputId": "41e257b6-64f9-4795-af3a-0ee8beab1fcd"
      },
      "cell_type": "code",
      "source": [
        "from torchvision import datasets,transforms\n",
        "\n",
        "transform = transforms.Compose([transforms.ToTensor(), transforms.Normalize((0.5,0.5,0.5), (0.5,0.5,0.5)),])\n",
        "\n",
        "trainset = datasets.FashionMNIST('FashionMNSIT_data/',download=True, train=True, transform=transform)\n",
        "trainloader = torch.utils.data.DataLoader(trainset, batch_size=64, shuffle=True)\n",
        "\n",
        "testset = datasets.FashionMNIST('FashionMNSIT_data/',download=True, train=False, transform=transform)\n",
        "testloader = torch.utils.data.DataLoader(testset, batch_size=64, shuffle=True)\n",
        "\n"
      ],
      "execution_count": 4,
      "outputs": [
        {
          "output_type": "stream",
          "text": [
            "Downloading http://fashion-mnist.s3-website.eu-central-1.amazonaws.com/train-images-idx3-ubyte.gz\n",
            "Downloading http://fashion-mnist.s3-website.eu-central-1.amazonaws.com/train-labels-idx1-ubyte.gz\n",
            "Downloading http://fashion-mnist.s3-website.eu-central-1.amazonaws.com/t10k-images-idx3-ubyte.gz\n",
            "Downloading http://fashion-mnist.s3-website.eu-central-1.amazonaws.com/t10k-labels-idx1-ubyte.gz\n",
            "Processing...\n",
            "Done!\n"
          ],
          "name": "stdout"
        }
      ]
    },
    {
      "metadata": {
        "id": "NG2RkIZetrxH",
        "colab_type": "code",
        "colab": {}
      },
      "cell_type": "code",
      "source": [
        "images, labels = next(iter(trainloader))\n"
      ],
      "execution_count": 0,
      "outputs": []
    },
    {
      "metadata": {
        "id": "SnN_lPQPuMJF",
        "colab_type": "code",
        "outputId": "cf9094f6-a731-48ae-e534-c36fd57bc0c6",
        "colab": {
          "base_uri": "https://localhost:8080/",
          "height": 1955
        }
      },
      "cell_type": "code",
      "source": [
        "print(images.shape)\n",
        "print(labels.shape)\n",
        "print(images[0])"
      ],
      "execution_count": 0,
      "outputs": [
        {
          "output_type": "stream",
          "text": [
            "torch.Size([64, 1, 28, 28])\n",
            "torch.Size([64])\n",
            "tensor([[[-1.0000, -1.0000, -1.0000, -1.0000, -1.0000, -1.0000, -1.0000,\n",
            "          -1.0000, -1.0000, -1.0000, -0.0353,  0.2549, -0.0510, -0.0353,\n",
            "           0.0039, -0.1216,  0.5216,  0.7333, -1.0000, -1.0000, -1.0000,\n",
            "          -1.0000, -0.9922, -1.0000, -1.0000, -1.0000, -1.0000, -1.0000],\n",
            "         [-1.0000, -1.0000, -1.0000, -1.0000, -1.0000, -1.0000, -1.0000,\n",
            "          -1.0000, -0.7490,  0.1843,  0.5765,  0.2549,  0.3961,  0.1451,\n",
            "          -0.0510,  0.0745,  0.5059,  0.4510, -0.1216, -0.9373, -1.0000,\n",
            "          -1.0000, -1.0000, -1.0000, -1.0000, -1.0000, -1.0000, -1.0000],\n",
            "         [-1.0000, -1.0000, -1.0000, -1.0000, -1.0000, -0.7412,  0.0039,\n",
            "           0.2706,  0.4902,  0.4510,  0.3255,  0.3490,  0.0745, -0.3725,\n",
            "          -0.6549, -0.0667,  0.0902,  0.2157,  0.5059,  0.4510,  0.3490,\n",
            "          -0.1765, -0.8902, -1.0000, -1.0000, -1.0000, -1.0000, -1.0000],\n",
            "         [-1.0000, -1.0000, -1.0000, -1.0000, -1.0000, -0.3882,  0.4902,\n",
            "           0.3647,  0.3098,  0.1451,  0.1608,  0.3647,  0.2157,  0.8588,\n",
            "           1.0000,  0.4196,  0.2157,  0.0588,  0.0196,  0.2549,  0.4196,\n",
            "           0.5059,  0.3647, -1.0000, -1.0000, -1.0000, -1.0000, -1.0000],\n",
            "         [-1.0000, -1.0000, -1.0000, -1.0000, -1.0000, -1.0000,  0.1608,\n",
            "           0.1294,  0.1451,  0.1686,  0.0588,  0.2157,  0.3098, -0.3882,\n",
            "          -0.4275,  0.4118,  0.0980,  0.0745,  0.0431,  0.0588,  0.0745,\n",
            "           0.2549, -0.3725, -1.0000, -1.0000, -1.0000, -1.0000, -1.0000],\n",
            "         [-1.0000, -1.0000, -1.0000, -1.0000, -1.0000, -1.0000, -0.0667,\n",
            "           0.1451,  0.0588,  0.1294,  0.1137,  0.0588,  0.3647,  0.1843,\n",
            "           0.1686,  0.3255,  0.1451,  0.2000,  0.0980,  0.0588, -0.0118,\n",
            "           0.1843, -0.9608, -1.0000, -1.0000, -1.0000, -1.0000, -1.0000],\n",
            "         [-1.0000, -1.0000, -1.0000, -1.0000, -1.0000, -1.0000, -0.4039,\n",
            "           0.2000,  0.0902,  0.1451,  0.0980,  0.0902,  0.0902,  0.3098,\n",
            "           0.3412,  0.0745,  0.0980,  0.1608,  0.1451,  0.1294,  0.1137,\n",
            "           0.0588, -1.0000, -1.0000, -1.0000, -1.0000, -1.0000, -1.0000],\n",
            "         [-1.0000, -1.0000, -1.0000, -1.0000, -1.0000, -1.0000, -0.6706,\n",
            "           0.1451,  0.0275,  0.1608,  0.0745,  0.0745,  0.0588,  0.0980,\n",
            "           0.2941,  0.1451,  0.1137,  0.1137,  0.1137,  0.1608,  0.2000,\n",
            "          -0.0980, -1.0000, -1.0000, -1.0000, -1.0000, -1.0000, -1.0000],\n",
            "         [-1.0000, -1.0000, -1.0000, -1.0000, -1.0000, -1.0000, -1.0000,\n",
            "           0.5451,  0.2000,  0.0431,  0.1137,  0.0275,  0.1137,  0.1137,\n",
            "           0.3804,  0.2157,  0.0588,  0.0902,  0.0588,  0.1608,  0.2941,\n",
            "          -0.2314, -1.0000, -1.0000, -1.0000, -1.0000, -1.0000, -1.0000],\n",
            "         [-1.0000, -1.0000, -1.0000, -1.0000, -1.0000, -1.0000, -1.0000,\n",
            "           0.3490,  0.5216,  0.2235,  0.0588,  0.0196,  0.0588,  0.1608,\n",
            "           0.2549,  0.1451, -0.0118, -0.0118,  0.0039,  0.2157,  0.4118,\n",
            "          -0.6706, -1.0000, -1.0000, -1.0000, -1.0000, -1.0000, -1.0000],\n",
            "         [-1.0000, -1.0000, -1.0000, -1.0000, -1.0000, -0.9922, -1.0000,\n",
            "          -0.6000,  0.4353,  0.3647,  0.1451,  0.0980,  0.0588,  0.0902,\n",
            "           0.0902,  0.2157,  0.0745,  0.0039,  0.0980,  0.3098,  0.2235,\n",
            "          -1.0000, -1.0000, -1.0000, -1.0000, -1.0000, -1.0000, -1.0000],\n",
            "         [-1.0000, -1.0000, -1.0000, -1.0000, -1.0000, -0.9608, -1.0000,\n",
            "          -1.0000,  0.2549,  0.5451,  0.1451,  0.1686,  0.2157,  0.0980,\n",
            "           0.3098,  0.1451,  0.1137,  0.1608,  0.2157,  0.4510,  0.0196,\n",
            "          -1.0000, -1.0000, -1.0000, -1.0000, -1.0000, -1.0000, -1.0000],\n",
            "         [-1.0000, -1.0000, -1.0000, -1.0000, -1.0000, -1.0000, -1.0000,\n",
            "          -1.0000,  0.2863,  0.5922,  0.1843,  0.1294,  0.2392,  0.1451,\n",
            "           0.2549,  0.1608,  0.1137,  0.1608,  0.2000,  0.4510, -0.2314,\n",
            "          -1.0000, -0.9765, -1.0000, -1.0000, -1.0000, -1.0000, -1.0000],\n",
            "         [-1.0000, -1.0000, -1.0000, -1.0000, -1.0000, -1.0000, -1.0000,\n",
            "          -1.0000,  0.5216,  0.5216,  0.3255,  0.0980,  0.0980,  0.3412,\n",
            "           0.3804,  0.2706,  0.0980,  0.1608,  0.2000,  0.4196, -0.4588,\n",
            "          -1.0000, -1.0000, -1.0000, -1.0000, -1.0000, -1.0000, -1.0000],\n",
            "         [-1.0000, -1.0000, -1.0000, -1.0000, -1.0000, -1.0000, -1.0000,\n",
            "          -1.0000,  0.4902,  0.4824,  0.3647,  0.1137,  0.1608,  0.1294,\n",
            "           0.0196,  0.2235,  0.1294,  0.1294,  0.2157,  0.3255, -0.8745,\n",
            "          -1.0000, -0.9922, -1.0000, -1.0000, -1.0000, -1.0000, -1.0000],\n",
            "         [-1.0000, -1.0000, -1.0000, -1.0000, -1.0000, -1.0000, -1.0000,\n",
            "          -1.0000,  0.1843,  0.4667,  0.3961,  0.1451,  0.0902,  0.1294,\n",
            "           0.2235,  0.2000,  0.1686,  0.0980,  0.2157,  0.2706, -1.0000,\n",
            "          -1.0000, -1.0000, -1.0000, -1.0000, -1.0000, -1.0000, -1.0000],\n",
            "         [-1.0000, -1.0000, -1.0000, -1.0000, -1.0000, -1.0000, -1.0000,\n",
            "          -1.0000,  0.0039,  0.4902,  0.3961,  0.1686,  0.1294,  0.1294,\n",
            "           0.3490,  0.2235,  0.2235,  0.0902,  0.1843,  0.3412, -0.8353,\n",
            "          -1.0000, -0.9922, -1.0000, -1.0000, -1.0000, -1.0000, -1.0000],\n",
            "         [-1.0000, -1.0000, -1.0000, -1.0000, -1.0000, -1.0000, -1.0000,\n",
            "          -1.0000, -0.0118,  0.5451,  0.3804,  0.1294,  0.1608,  0.2235,\n",
            "           0.2941,  0.2941,  0.3098,  0.0745,  0.1843,  0.3804, -0.3569,\n",
            "          -1.0000, -0.9922, -1.0000, -1.0000, -1.0000, -1.0000, -1.0000],\n",
            "         [-1.0000, -1.0000, -1.0000, -1.0000, -1.0000, -1.0000, -1.0000,\n",
            "          -1.0000,  0.1608,  0.5765,  0.4196,  0.1137,  0.2235,  0.0039,\n",
            "          -0.0510,  0.3804,  0.3412,  0.0980,  0.1608,  0.3412, -0.1765,\n",
            "          -1.0000, -1.0000, -1.0000, -1.0000, -1.0000, -1.0000, -1.0000],\n",
            "         [-1.0000, -1.0000, -1.0000, -1.0000, -1.0000, -0.9765, -1.0000,\n",
            "          -0.9765,  0.4196,  0.5373,  0.4196,  0.1451,  0.2235,  0.1843,\n",
            "           0.1137,  0.2706,  0.3804,  0.1137,  0.1137,  0.2941, -0.0824,\n",
            "          -1.0000, -1.0000, -1.0000, -1.0000, -1.0000, -1.0000, -1.0000],\n",
            "         [-1.0000, -1.0000, -1.0000, -1.0000, -1.0000, -0.9922, -1.0000,\n",
            "          -0.5843,  0.5922,  0.4902,  0.3647,  0.1137,  0.1843,  0.2157,\n",
            "           0.2706,  0.2706,  0.4118,  0.1608,  0.1294,  0.2706,  0.2549,\n",
            "          -1.0000, -1.0000, -1.0000, -1.0000, -1.0000, -1.0000, -1.0000],\n",
            "         [-1.0000, -1.0000, -1.0000, -1.0000, -1.0000, -1.0000, -1.0000,\n",
            "          -0.0667,  0.5765,  0.4902,  0.4196,  0.1608,  0.2235,  0.2863,\n",
            "           0.2941,  0.2863,  0.3804,  0.1686,  0.0980,  0.2235,  0.4824,\n",
            "          -1.0000, -1.0000, -1.0000, -1.0000, -1.0000, -1.0000, -1.0000],\n",
            "         [-1.0000, -1.0000, -1.0000, -1.0000, -1.0000, -1.0000, -1.0000,\n",
            "           0.4353,  0.5765,  0.4510,  0.4902,  0.1843,  0.2706,  0.1294,\n",
            "           0.0980,  0.3961,  0.3961,  0.2000,  0.1451,  0.2000,  0.2549,\n",
            "          -1.0000, -1.0000, -1.0000, -1.0000, -1.0000, -1.0000, -1.0000],\n",
            "         [-1.0000, -1.0000, -1.0000, -1.0000, -1.0000, -1.0000, -1.0000,\n",
            "           0.5216,  0.6078,  0.4824,  0.5059,  0.1843,  0.1686,  0.2941,\n",
            "           0.2941,  0.3961,  0.4118,  0.2000,  0.1608,  0.1843,  0.3098,\n",
            "          -0.7412, -1.0000, -1.0000, -1.0000, -1.0000, -1.0000, -1.0000],\n",
            "         [-1.0000, -1.0000, -1.0000, -1.0000, -1.0000, -1.0000, -0.6549,\n",
            "           0.5922,  0.4902,  0.4510,  0.4118,  0.2235,  0.1843,  0.2706,\n",
            "           0.2549,  0.4353,  0.4824,  0.2000,  0.1843,  0.2000,  0.3255,\n",
            "          -0.5451, -1.0000, -1.0000, -1.0000, -1.0000, -1.0000, -1.0000],\n",
            "         [-1.0000, -1.0000, -1.0000, -1.0000, -1.0000, -1.0000,  0.0588,\n",
            "           0.6078,  0.4118,  0.4510,  0.3098,  0.1608,  0.1451,  0.2706,\n",
            "           0.2392,  0.3647,  0.4353,  0.2941,  0.1686,  0.1843,  0.3412,\n",
            "          -0.0824, -1.0000, -1.0000, -1.0000, -1.0000, -1.0000, -1.0000],\n",
            "         [-1.0000, -1.0000, -1.0000, -1.0000, -1.0000, -1.0000, -0.6157,\n",
            "           0.5216,  0.6706,  0.5608,  0.5216,  0.4118,  0.4118,  0.5608,\n",
            "           0.5373,  0.6078,  0.6157,  0.5608,  0.3255,  0.2549,  0.4196,\n",
            "           0.0039, -1.0000, -1.0000, -1.0000, -1.0000, -1.0000, -1.0000],\n",
            "         [-1.0000, -1.0000, -1.0000, -1.0000, -1.0000, -1.0000, -1.0000,\n",
            "          -1.0000, -0.5137, -0.2235, -0.2471, -0.2314, -0.3020, -0.2941,\n",
            "          -0.3176, -0.1686, -0.0824,  0.0902,  0.0196, -0.1373, -0.5529,\n",
            "          -1.0000, -1.0000, -1.0000, -1.0000, -1.0000, -1.0000, -1.0000]]])\n"
          ],
          "name": "stdout"
        }
      ]
    },
    {
      "metadata": {
        "id": "kXj4PihytOBp",
        "colab_type": "code",
        "outputId": "54768a4c-8b44-4f1d-cdb6-f9f1d9fb6520",
        "colab": {
          "base_uri": "https://localhost:8080/",
          "height": 282
        }
      },
      "cell_type": "code",
      "source": [
        "plt.imshow(images[4].numpy().squeeze(), cmap='Greys_r')\n",
        "print(images[2][0][27][27])"
      ],
      "execution_count": 0,
      "outputs": [
        {
          "output_type": "stream",
          "text": [
            "tensor(-1.)\n"
          ],
          "name": "stdout"
        },
        {
          "output_type": "display_data",
          "data": {
            "image/png": "[encoded data removed]",
            "text/plain": [
              "<matplotlib.figure.Figure at 0x7fc7becf0908>"
            ]
          },
          "metadata": {
            "tags": [],
            "image/png": {
              "width": 249,
              "height": 248
            }
          }
        }
      ]
    },
    {
      "metadata": {
        "id": "QtaZyEW78hcN",
        "colab_type": "code",
        "outputId": "219e820d-9e8b-4e33-b359-377ddd63701a",
        "colab": {
          "base_uri": "https://localhost:8080/",
          "height": 153
        }
      },
      "cell_type": "code",
      "source": [
        "from torch import optim\n",
        "from torch import nn\n",
        "model = nn.Sequential(nn.Linear(784,128),\n",
        "                     nn.ReLU(),\n",
        "                     nn.Linear(128,64),\n",
        "                     nn.ReLU(),\n",
        "                     nn.Linear(64,10)\n",
        "                     )\n",
        "#Should increase hidden layers as FMNIST dataset is complex\n",
        "optimizer = optim.Adam(model.parameters(), lr=0.003) \n",
        "# or optim.Adam (faster fitting, different learning rates, gives momemtum...)\n",
        "\n",
        "#This criterion combines nn.LogSoftmax() and nn.NLLLoss() in one single class.\n",
        "criterion = nn.CrossEntropyLoss()\n",
        "print('lenght of trainloader',len(trainloader))\n",
        "epochs = 7\n",
        "for e in range(epochs):\n",
        "  running_loss = 0\n",
        "  for images, labels in trainloader:\n",
        "    images = images.view(images.shape[0], -1)\n",
        "    optimizer.zero_grad()\n",
        "  # Clear the gradients or else gradients are accumulated from previous training pass\n",
        "    output = model.forward(images)\n",
        "    loss = criterion(output,labels)\n",
        "    running_loss+=loss.item()\n",
        "    loss.backward()\n",
        "    optimizer.step()\n",
        "\n",
        "  else:\n",
        "    print('Training Loss:', running_loss/len(trainloader))       "
      ],
      "execution_count": 0,
      "outputs": [
        {
          "output_type": "stream",
          "text": [
            "lenght of trainloader 938\n",
            "Training Loss: 0.5000270493408002\n",
            "Training Loss: 0.3828372867789858\n",
            "Training Loss: 0.3527474996568298\n",
            "Training Loss: 0.32999269157521\n",
            "Training Loss: 0.31960632926873817\n",
            "Training Loss: 0.30236071202038195\n",
            "Training Loss: 0.2945992953852931\n"
          ],
          "name": "stdout"
        }
      ]
    },
    {
      "metadata": {
        "id": "B_sByM2sms8R",
        "colab_type": "text"
      },
      "cell_type": "markdown",
      "source": [
        ""
      ]
    },
    {
      "metadata": {
        "id": "_ZJSqLwpBJH2",
        "colab_type": "code",
        "colab": {}
      },
      "cell_type": "code",
      "source": [
        "import matplotlib.pyplot as plt\n",
        "import numpy as np\n",
        "from torch import nn, optim\n",
        "from torch.autograd import Variable\n",
        "\n",
        "\n",
        "def test_network(net, trainloader):\n",
        "\n",
        "    criterion = nn.MSELoss()\n",
        "    optimizer = optim.Adam(net.parameters(), lr=0.001)\n",
        "\n",
        "    dataiter = iter(trainloader)\n",
        "    images, labels = dataiter.next()\n",
        "\n",
        "    # Create Variables for the inputs and targets\n",
        "    inputs = Variable(images)\n",
        "    targets = Variable(images)\n",
        "\n",
        "    # Clear the gradients from all Variables\n",
        "    optimizer.zero_grad()\n",
        "\n",
        "    # Forward pass, then backward pass, then update weights\n",
        "    output = net.forward(inputs)\n",
        "    loss = criterion(output, targets)\n",
        "    loss.backward()\n",
        "    optimizer.step()\n",
        "\n",
        "    return True\n",
        "\n",
        "\n",
        "def imshow(image, ax=None, title=None, normalize=True):\n",
        "    \"\"\"Imshow for Tensor.\"\"\"\n",
        "    if ax is None:\n",
        "        fig, ax = plt.subplots()\n",
        "    image = image.numpy().transpose((1, 2, 0))\n",
        "\n",
        "    if normalize:\n",
        "        mean = np.array([0.485, 0.456, 0.406])\n",
        "        std = np.array([0.229, 0.224, 0.225])\n",
        "        image = std * image + mean\n",
        "        image = np.clip(image, 0, 1)\n",
        "\n",
        "    ax.imshow(image)\n",
        "    ax.spines['top'].set_visible(False)\n",
        "    ax.spines['right'].set_visible(False)\n",
        "    ax.spines['left'].set_visible(False)\n",
        "    ax.spines['bottom'].set_visible(False)\n",
        "    ax.tick_params(axis='both', length=0)\n",
        "    ax.set_xticklabels('')\n",
        "    ax.set_yticklabels('')\n",
        "\n",
        "    return ax\n",
        "\n",
        "\n",
        "def view_recon(img, recon):\n",
        "    ''' Function for displaying an image (as a PyTorch Tensor) and its\n",
        "        reconstruction also a PyTorch Tensor\n",
        "    '''\n",
        "\n",
        "    fig, axes = plt.subplots(ncols=2, sharex=True, sharey=True)\n",
        "    axes[0].imshow(img.numpy().squeeze())\n",
        "    axes[1].imshow(recon.data.numpy().squeeze())\n",
        "    for ax in axes:\n",
        "        ax.axis('off')\n",
        "        ax.set_adjustable('box-forced')\n",
        "\n",
        "def view_classify(img, ps, version=\"MNIST\"):\n",
        "    ''' Function for viewing an image and it's predicted classes.\n",
        "    '''\n",
        "    ps = ps.data.numpy().squeeze()\n",
        "\n",
        "    fig, (ax1, ax2) = plt.subplots(figsize=(6,9), ncols=2)\n",
        "    ax1.imshow(img.resize_(1, 28, 28).numpy().squeeze())\n",
        "    ax1.axis('off')\n",
        "    ax2.barh(np.arange(10), ps)\n",
        "    ax2.set_aspect(0.1)\n",
        "    ax2.set_yticks(np.arange(10))\n",
        "    if version == \"MNIST\":\n",
        "        ax2.set_yticklabels(np.arange(10))\n",
        "    elif version == \"Fashion\":\n",
        "        ax2.set_yticklabels(['T-shirt/top',\n",
        "                            'Trouser',\n",
        "                            'Pullover',\n",
        "                            'Dress',\n",
        "                            'Coat',\n",
        "                            'Sandal',\n",
        "                            'Shirt',\n",
        "                            'Sneaker',\n",
        "                            'Bag',\n",
        "                            'Ankle Boot'], size='small');\n",
        "    ax2.set_title('Class Probability')\n",
        "    ax2.set_xlim(0, 1.1)\n",
        "\n",
        "    plt.tight_layout()"
      ],
      "execution_count": 0,
      "outputs": []
    },
    {
      "metadata": {
        "id": "e3R38--aLYQP",
        "colab_type": "text"
      },
      "cell_type": "markdown",
      "source": [
        ""
      ]
    },
    {
      "metadata": {
        "id": "Jp7nAcrUB3k-",
        "colab_type": "text"
      },
      "cell_type": "markdown",
      "source": [
        "Labels for reference: https://github.com/zalandoresearch/fashion-mnist#labels"
      ]
    },
    {
      "metadata": {
        "id": "fFN4LSvdBXfr",
        "colab_type": "code",
        "outputId": "adac3654-93cd-4154-8561-b2a7e5beb72e",
        "colab": {
          "base_uri": "https://localhost:8080/",
          "height": 261
        }
      },
      "cell_type": "code",
      "source": [
        "%matplotlib inline\n",
        "import torch.nn.functional as F\n",
        "images, labels = next(iter(trainloader))\n",
        "img = images[14].view(1, 784)\n",
        "\n",
        "#Turn off gradient to speed up this prediction checking part\n",
        "with torch.no_grad():\n",
        "  logits = model.forward(img)\n",
        "  \n",
        "ps = F.softmax(logits, dim=1)\n",
        "print(ps)\n",
        "#plt.imshow(images[0].numpy().squeeze(), cmap='Greys_r')\n",
        "view_classify(img.view(1,28,28), ps, version='Fashion')  "
      ],
      "execution_count": 0,
      "outputs": [
        {
          "output_type": "stream",
          "text": [
            "tensor([[2.5182e-03, 1.3993e-03, 2.1403e-03, 9.0318e-01, 7.8082e-02, 1.9597e-05,\n",
            "         1.2310e-02, 9.3779e-07, 3.5352e-04, 5.0554e-07]])\n"
          ],
          "name": "stdout"
        },
        {
          "output_type": "display_data",
          "data": {
            "image/png": "[encoded data removed]",
            "text/plain": [
              "<matplotlib.figure.Figure at 0x7f0b3b49aeb8>"
            ]
          },
          "metadata": {
            "tags": [],
            "image/png": {
              "width": 424,
              "height": 210
            }
          }
        }
      ]
    },
    {
      "metadata": {
        "id": "MnGwi1OtmvHT",
        "colab_type": "text"
      },
      "cell_type": "markdown",
      "source": [
        "**Inference and Validation**"
      ]
    },
    {
      "metadata": {
        "id": "9_XJChZ0nATu",
        "colab_type": "code",
        "outputId": "f3f731ca-f882-43d1-8f46-bdc1ebb159a4",
        "colab": {
          "base_uri": "https://localhost:8080/",
          "height": 170
        }
      },
      "cell_type": "code",
      "source": [
        "images, labels = next(iter(testloader))\n",
        "print(images.shape)\n",
        "images = images.view(images.shape[0], -1)\n",
        "\n",
        "with torch.no_grad():\n",
        "  logits = model.forward(images)\n",
        "#Get the class probabilities\n",
        "ps = F.softmax(logits, dim=1)\n",
        "print(torch.sum(ps, dim=1))\n",
        "# dim=1 => rowise\n",
        "\n"
      ],
      "execution_count": 0,
      "outputs": [
        {
          "output_type": "stream",
          "text": [
            "torch.Size([64, 1, 28, 28])\n",
            "tensor([1.0000, 1.0000, 1.0000, 1.0000, 1.0000, 1.0000, 1.0000, 1.0000, 1.0000,\n",
            "        1.0000, 1.0000, 1.0000, 1.0000, 1.0000, 1.0000, 1.0000, 1.0000, 1.0000,\n",
            "        1.0000, 1.0000, 1.0000, 1.0000, 1.0000, 1.0000, 1.0000, 1.0000, 1.0000,\n",
            "        1.0000, 1.0000, 1.0000, 1.0000, 1.0000, 1.0000, 1.0000, 1.0000, 1.0000,\n",
            "        1.0000, 1.0000, 1.0000, 1.0000, 1.0000, 1.0000, 1.0000, 1.0000, 1.0000,\n",
            "        1.0000, 1.0000, 1.0000, 1.0000, 1.0000, 1.0000, 1.0000, 1.0000, 1.0000,\n",
            "        1.0000, 1.0000, 1.0000, 1.0000, 1.0000, 1.0000, 1.0000, 1.0000, 1.0000,\n",
            "        1.0000])\n"
          ],
          "name": "stdout"
        }
      ]
    },
    {
      "metadata": {
        "id": "R-y4E2Lnpf7c",
        "colab_type": "code",
        "outputId": "45678e93-f594-4bdd-f807-63b3971fd0e8",
        "colab": {
          "base_uri": "https://localhost:8080/",
          "height": 187
        }
      },
      "cell_type": "code",
      "source": [
        "top_p, top_class = ps.topk(1,dim=1)\n",
        "print(top_class[:10,:])"
      ],
      "execution_count": 0,
      "outputs": [
        {
          "output_type": "stream",
          "text": [
            "tensor([[0],\n",
            "        [0],\n",
            "        [2],\n",
            "        [2],\n",
            "        [6],\n",
            "        [6],\n",
            "        [6],\n",
            "        [4],\n",
            "        [0],\n",
            "        [3]])\n"
          ],
          "name": "stdout"
        }
      ]
    },
    {
      "metadata": {
        "id": "iguwvYlJyuB8",
        "colab_type": "code",
        "outputId": "ed15eb32-0ba7-4059-a899-89dc0a1d6877",
        "colab": {
          "base_uri": "https://localhost:8080/",
          "height": 1105
        }
      },
      "cell_type": "code",
      "source": [
        "equals =  top_class == labels.view(*top_class.shape)\n",
        "print(equals)"
      ],
      "execution_count": 0,
      "outputs": [
        {
          "output_type": "stream",
          "text": [
            "tensor([[1],\n",
            "        [0],\n",
            "        [0],\n",
            "        [1],\n",
            "        [1],\n",
            "        [1],\n",
            "        [1],\n",
            "        [0],\n",
            "        [1],\n",
            "        [1],\n",
            "        [1],\n",
            "        [1],\n",
            "        [1],\n",
            "        [1],\n",
            "        [1],\n",
            "        [1],\n",
            "        [1],\n",
            "        [1],\n",
            "        [1],\n",
            "        [1],\n",
            "        [1],\n",
            "        [1],\n",
            "        [1],\n",
            "        [1],\n",
            "        [0],\n",
            "        [1],\n",
            "        [1],\n",
            "        [1],\n",
            "        [0],\n",
            "        [1],\n",
            "        [1],\n",
            "        [1],\n",
            "        [1],\n",
            "        [1],\n",
            "        [1],\n",
            "        [1],\n",
            "        [1],\n",
            "        [0],\n",
            "        [1],\n",
            "        [0],\n",
            "        [1],\n",
            "        [1],\n",
            "        [1],\n",
            "        [1],\n",
            "        [1],\n",
            "        [1],\n",
            "        [1],\n",
            "        [1],\n",
            "        [1],\n",
            "        [1],\n",
            "        [1],\n",
            "        [0],\n",
            "        [1],\n",
            "        [1],\n",
            "        [1],\n",
            "        [1],\n",
            "        [1],\n",
            "        [1],\n",
            "        [1],\n",
            "        [1],\n",
            "        [1],\n",
            "        [1],\n",
            "        [1],\n",
            "        [1]], dtype=torch.uint8)\n"
          ],
          "name": "stdout"
        }
      ]
    },
    {
      "metadata": {
        "id": "OOGWOQRF1NdH",
        "colab_type": "code",
        "outputId": "0cd52ec7-779a-4043-d43c-cedfc296884c",
        "colab": {
          "base_uri": "https://localhost:8080/",
          "height": 34
        }
      },
      "cell_type": "code",
      "source": [
        "accuracy = torch.mean(equals.type(torch.FloatTensor)) # equals has byte datatype i.e uint8 but mean does work on byte\n",
        "print(f'Accuracy: {accuracy.item()*100}%')"
      ],
      "execution_count": 0,
      "outputs": [
        {
          "output_type": "stream",
          "text": [
            "Accuracy: 87.5%\n"
          ],
          "name": "stdout"
        }
      ]
    },
    {
      "metadata": {
        "id": "HWBqRM1RBrsr",
        "colab_type": "code",
        "outputId": "da035cb2-af7f-4da5-f960-c0908dfc0537",
        "colab": {
          "base_uri": "https://localhost:8080/",
          "height": 34
        }
      },
      "cell_type": "code",
      "source": [
        "a= [[2],\n",
        "   [34],[44]]\n",
        "b = [[33],[77]]\n",
        "a+=b\n",
        "print(a)\n",
        "  "
      ],
      "execution_count": 0,
      "outputs": [
        {
          "output_type": "stream",
          "text": [
            "[[2], [34], [44], [33], [77]]\n"
          ],
          "name": "stdout"
        }
      ]
    },
    {
      "metadata": {
        "id": "xe4X6R9a2eRU",
        "colab_type": "code",
        "outputId": "b6a392b4-0f95-4f8d-a1ca-19982d7808fc",
        "colab": {
          "base_uri": "https://localhost:8080/",
          "height": 2703
        }
      },
      "cell_type": "code",
      "source": [
        "totalEquals = torch.tensor([], dtype=torch.uint8)\n",
        "for images, labels in testloader:\n",
        "  images = images.view(images.shape[0],-1)\n",
        "  with torch.no_grad():\n",
        "    logits = model.forward(images)\n",
        "    #Get the class probabilities\n",
        "    ps = F.softmax(logits, dim=1)\n",
        "    top_p, top_class = ps.topk(1,dim=1)\n",
        "    equals = top_class == labels.view(*top_class.shape)\n",
        "    totalEquals = torch.cat((totalEquals,equals),0)\n",
        "    batchAccuracy  = torch.mean(equals.type(torch.FloatTensor))\n",
        "    print(f'batchAccuracy: {batchAccuracy.item()*100}%')\n",
        "else:\n",
        "  totalAcc = torch.mean(totalEquals.type(torch.FloatTensor))\n",
        "  print(f'Total Accuracy: {totalAcc.item()*100}%')\n",
        "  \n",
        "  "
      ],
      "execution_count": 0,
      "outputs": [
        {
          "output_type": "stream",
          "text": [
            "batchAccuracy: 93.75%\n",
            "batchAccuracy: 85.9375%\n",
            "batchAccuracy: 82.8125%\n",
            "batchAccuracy: 89.0625%\n",
            "batchAccuracy: 93.75%\n",
            "batchAccuracy: 87.5%\n",
            "batchAccuracy: 89.0625%\n",
            "batchAccuracy: 84.375%\n",
            "batchAccuracy: 85.9375%\n",
            "batchAccuracy: 76.5625%\n",
            "batchAccuracy: 85.9375%\n",
            "batchAccuracy: 90.625%\n",
            "batchAccuracy: 79.6875%\n",
            "batchAccuracy: 89.0625%\n",
            "batchAccuracy: 90.625%\n",
            "batchAccuracy: 82.8125%\n",
            "batchAccuracy: 82.8125%\n",
            "batchAccuracy: 85.9375%\n",
            "batchAccuracy: 89.0625%\n",
            "batchAccuracy: 89.0625%\n",
            "batchAccuracy: 78.125%\n",
            "batchAccuracy: 92.1875%\n",
            "batchAccuracy: 92.1875%\n",
            "batchAccuracy: 92.1875%\n",
            "batchAccuracy: 92.1875%\n",
            "batchAccuracy: 87.5%\n",
            "batchAccuracy: 84.375%\n",
            "batchAccuracy: 92.1875%\n",
            "batchAccuracy: 81.25%\n",
            "batchAccuracy: 79.6875%\n",
            "batchAccuracy: 87.5%\n",
            "batchAccuracy: 90.625%\n",
            "batchAccuracy: 92.1875%\n",
            "batchAccuracy: 81.25%\n",
            "batchAccuracy: 90.625%\n",
            "batchAccuracy: 93.75%\n",
            "batchAccuracy: 90.625%\n",
            "batchAccuracy: 82.8125%\n",
            "batchAccuracy: 96.875%\n",
            "batchAccuracy: 87.5%\n",
            "batchAccuracy: 90.625%\n",
            "batchAccuracy: 87.5%\n",
            "batchAccuracy: 81.25%\n",
            "batchAccuracy: 84.375%\n",
            "batchAccuracy: 84.375%\n",
            "batchAccuracy: 95.3125%\n",
            "batchAccuracy: 92.1875%\n",
            "batchAccuracy: 85.9375%\n",
            "batchAccuracy: 87.5%\n",
            "batchAccuracy: 84.375%\n",
            "batchAccuracy: 92.1875%\n",
            "batchAccuracy: 92.1875%\n",
            "batchAccuracy: 85.9375%\n",
            "batchAccuracy: 84.375%\n",
            "batchAccuracy: 90.625%\n",
            "batchAccuracy: 93.75%\n",
            "batchAccuracy: 87.5%\n",
            "batchAccuracy: 92.1875%\n",
            "batchAccuracy: 92.1875%\n",
            "batchAccuracy: 93.75%\n",
            "batchAccuracy: 89.0625%\n",
            "batchAccuracy: 78.125%\n",
            "batchAccuracy: 84.375%\n",
            "batchAccuracy: 92.1875%\n",
            "batchAccuracy: 90.625%\n",
            "batchAccuracy: 87.5%\n",
            "batchAccuracy: 85.9375%\n",
            "batchAccuracy: 84.375%\n",
            "batchAccuracy: 85.9375%\n",
            "batchAccuracy: 89.0625%\n",
            "batchAccuracy: 90.625%\n",
            "batchAccuracy: 93.75%\n",
            "batchAccuracy: 89.0625%\n",
            "batchAccuracy: 85.9375%\n",
            "batchAccuracy: 87.5%\n",
            "batchAccuracy: 79.6875%\n",
            "batchAccuracy: 92.1875%\n",
            "batchAccuracy: 89.0625%\n",
            "batchAccuracy: 87.5%\n",
            "batchAccuracy: 89.0625%\n",
            "batchAccuracy: 82.8125%\n",
            "batchAccuracy: 92.1875%\n",
            "batchAccuracy: 87.5%\n",
            "batchAccuracy: 78.125%\n",
            "batchAccuracy: 87.5%\n",
            "batchAccuracy: 84.375%\n",
            "batchAccuracy: 87.5%\n",
            "batchAccuracy: 90.625%\n",
            "batchAccuracy: 90.625%\n",
            "batchAccuracy: 84.375%\n",
            "batchAccuracy: 92.1875%\n",
            "batchAccuracy: 87.5%\n",
            "batchAccuracy: 84.375%\n",
            "batchAccuracy: 85.9375%\n",
            "batchAccuracy: 84.375%\n",
            "batchAccuracy: 82.8125%\n",
            "batchAccuracy: 79.6875%\n",
            "batchAccuracy: 82.8125%\n",
            "batchAccuracy: 84.375%\n",
            "batchAccuracy: 85.9375%\n",
            "batchAccuracy: 90.625%\n",
            "batchAccuracy: 85.9375%\n",
            "batchAccuracy: 93.75%\n",
            "batchAccuracy: 84.375%\n",
            "batchAccuracy: 85.9375%\n",
            "batchAccuracy: 87.5%\n",
            "batchAccuracy: 87.5%\n",
            "batchAccuracy: 85.9375%\n",
            "batchAccuracy: 87.5%\n",
            "batchAccuracy: 87.5%\n",
            "batchAccuracy: 92.1875%\n",
            "batchAccuracy: 85.9375%\n",
            "batchAccuracy: 81.25%\n",
            "batchAccuracy: 89.0625%\n",
            "batchAccuracy: 89.0625%\n",
            "batchAccuracy: 89.0625%\n",
            "batchAccuracy: 89.0625%\n",
            "batchAccuracy: 85.9375%\n",
            "batchAccuracy: 85.9375%\n",
            "batchAccuracy: 87.5%\n",
            "batchAccuracy: 87.5%\n",
            "batchAccuracy: 84.375%\n",
            "batchAccuracy: 90.625%\n",
            "batchAccuracy: 85.9375%\n",
            "batchAccuracy: 89.0625%\n",
            "batchAccuracy: 75.0%\n",
            "batchAccuracy: 85.9375%\n",
            "batchAccuracy: 84.375%\n",
            "batchAccuracy: 92.1875%\n",
            "batchAccuracy: 81.25%\n",
            "batchAccuracy: 90.625%\n",
            "batchAccuracy: 87.5%\n",
            "batchAccuracy: 89.0625%\n",
            "batchAccuracy: 79.6875%\n",
            "batchAccuracy: 82.8125%\n",
            "batchAccuracy: 90.625%\n",
            "batchAccuracy: 87.5%\n",
            "batchAccuracy: 85.9375%\n",
            "batchAccuracy: 89.0625%\n",
            "batchAccuracy: 90.625%\n",
            "batchAccuracy: 84.375%\n",
            "batchAccuracy: 87.5%\n",
            "batchAccuracy: 90.625%\n",
            "batchAccuracy: 87.5%\n",
            "batchAccuracy: 79.6875%\n",
            "batchAccuracy: 85.9375%\n",
            "batchAccuracy: 79.6875%\n",
            "batchAccuracy: 90.625%\n",
            "batchAccuracy: 90.625%\n",
            "batchAccuracy: 89.0625%\n",
            "batchAccuracy: 92.1875%\n",
            "batchAccuracy: 92.1875%\n",
            "batchAccuracy: 89.0625%\n",
            "batchAccuracy: 90.625%\n",
            "batchAccuracy: 81.25%\n",
            "batchAccuracy: 79.6875%\n",
            "batchAccuracy: 87.5%\n",
            "Total Accuracy: 87.29000091552734%\n"
          ],
          "name": "stdout"
        }
      ]
    },
    {
      "metadata": {
        "id": "Fn_TCRmELc_n",
        "colab_type": "text"
      },
      "cell_type": "markdown",
      "source": [
        "**VALIDATION**"
      ]
    },
    {
      "metadata": {
        "id": "NrpMQhi0LkWS",
        "colab_type": "code",
        "colab": {}
      },
      "cell_type": "code",
      "source": [
        ""
      ],
      "execution_count": 0,
      "outputs": []
    },
    {
      "metadata": {
        "id": "coQVqtXZLqZB",
        "colab_type": "code",
        "colab": {
          "base_uri": "https://localhost:8080/",
          "height": 1394
        },
        "outputId": "7360243b-51f8-4909-96b9-8ca1e23cbfa2"
      },
      "cell_type": "code",
      "source": [
        "from torch import optim\n",
        "from torch import nn\n",
        "import torch.nn.functional as F\n",
        "model = nn.Sequential(nn.Linear(784,128),\n",
        "                     nn.ReLU(),\n",
        "                     nn.Linear(128,64),\n",
        "                     nn.ReLU(),\n",
        "                     nn.Linear(64,10)\n",
        "                     )\n",
        "#Should increase hidden layers as FMNIST dataset is complex\n",
        "optimizer = optim.Adam(model.parameters(), lr=0.003) \n",
        "# or optim.Adam (faster fitting, different learning rates, gives momemtum...)\n",
        "\n",
        "#This criterion combines nn.LogSoftmax() and nn.NLLLoss() in one single class.\n",
        "criterion = nn.CrossEntropyLoss()\n",
        "print('lenght of trainloader',len(trainloader))\n",
        "epochs = 20\n",
        "train_losses, test_losses = [], []\n",
        "for e in range(epochs):\n",
        "  running_loss = 0\n",
        "  for images, labels in trainloader:\n",
        "    images = images.view(images.shape[0], -1)\n",
        "    optimizer.zero_grad()\n",
        "  # Clear the gradients or else gradients are accumulated from previous training pass\n",
        "    output = model.forward(images)\n",
        "    loss = criterion(output,labels)\n",
        "    running_loss+=loss.item()\n",
        "    loss.backward()\n",
        "    optimizer.step()\n",
        "\n",
        "  else:\n",
        "    totalEquals = torch.tensor([], dtype=torch.uint8)\n",
        "    test_loss = 0\n",
        "    for images, labels in testloader:\n",
        "      images = images.view(images.shape[0],-1)\n",
        "      with torch.no_grad():\n",
        "        logits = model.forward(images)\n",
        "        #Get the class probabilities\n",
        "        test_loss += criterion(logits, labels).item() \n",
        "        ps = F.softmax(logits, dim=1)\n",
        "        top_p, top_class = ps.topk(1,dim=1)\n",
        "        equals = top_class == labels.view(*top_class.shape)\n",
        "        totalEquals = torch.cat((totalEquals,equals),0)\n",
        "    train_losses.append(running_loss/len(trainloader))\n",
        "    test_losses.append(test_loss/len(testloader))\n",
        "    totalAcc = torch.mean(totalEquals.type(torch.FloatTensor))\n",
        "    print(f'epoch: {e}')\n",
        "    print(f'Test Accuracy: {totalAcc.item()*100}%')\n",
        "    \n",
        "    print('Training Loss:', running_loss/len(trainloader))\n",
        "    print('Testing Loss:', test_loss/len(testloader))"
      ],
      "execution_count": 6,
      "outputs": [
        {
          "output_type": "stream",
          "text": [
            "lenght of trainloader 938\n",
            "epoch: 0\n",
            "Test Accuracy: 83.91000032424927%\n",
            "Training Loss: 0.4963613745055473\n",
            "Testing Loss: 0.4408726516612776\n",
            "epoch: 1\n",
            "Test Accuracy: 84.92000102996826%\n",
            "Training Loss: 0.3846432344713953\n",
            "Testing Loss: 0.4011312758277176\n",
            "epoch: 2\n",
            "Test Accuracy: 86.05999946594238%\n",
            "Training Loss: 0.3529604022134977\n",
            "Testing Loss: 0.3898331359693199\n",
            "epoch: 3\n",
            "Test Accuracy: 86.29000186920166%\n",
            "Training Loss: 0.3277841291543263\n",
            "Testing Loss: 0.3799515682610737\n",
            "epoch: 4\n",
            "Test Accuracy: 86.75000071525574%\n",
            "Training Loss: 0.3167394339950926\n",
            "Testing Loss: 0.3773017564586773\n",
            "epoch: 5\n",
            "Test Accuracy: 86.11000180244446%\n",
            "Training Loss: 0.30345817185096396\n",
            "Testing Loss: 0.3901132889993631\n",
            "epoch: 6\n",
            "Test Accuracy: 86.57000064849854%\n",
            "Training Loss: 0.2911069056531514\n",
            "Testing Loss: 0.3740134873207967\n",
            "epoch: 7\n",
            "Test Accuracy: 87.52999901771545%\n",
            "Training Loss: 0.28245276325483565\n",
            "Testing Loss: 0.35510004401966266\n",
            "epoch: 8\n",
            "Test Accuracy: 87.52999901771545%\n",
            "Training Loss: 0.27244778671689124\n",
            "Testing Loss: 0.36272322623782854\n",
            "epoch: 9\n",
            "Test Accuracy: 86.83000206947327%\n",
            "Training Loss: 0.26985203172924166\n",
            "Testing Loss: 0.39398479542345\n",
            "epoch: 10\n",
            "Test Accuracy: 87.29000091552734%\n",
            "Training Loss: 0.26084192195283706\n",
            "Testing Loss: 0.371251878607425\n",
            "epoch: 11\n",
            "Test Accuracy: 87.52999901771545%\n",
            "Training Loss: 0.25523598465536323\n",
            "Testing Loss: 0.35976161385417743\n",
            "epoch: 12\n",
            "Test Accuracy: 87.79000043869019%\n",
            "Training Loss: 0.24936907290459187\n",
            "Testing Loss: 0.37312701596006465\n",
            "epoch: 13\n",
            "Test Accuracy: 87.27999925613403%\n",
            "Training Loss: 0.24235509650539488\n",
            "Testing Loss: 0.3874066342973405\n",
            "epoch: 14\n",
            "Test Accuracy: 87.74999976158142%\n",
            "Training Loss: 0.23860200052894254\n",
            "Testing Loss: 0.39006935169172896\n",
            "epoch: 15\n",
            "Test Accuracy: 87.43000030517578%\n",
            "Training Loss: 0.2345247251281479\n",
            "Testing Loss: 0.40770244588897486\n",
            "epoch: 16\n",
            "Test Accuracy: 87.55000233650208%\n",
            "Training Loss: 0.2338757200051409\n",
            "Testing Loss: 0.3890673174599933\n",
            "epoch: 17\n",
            "Test Accuracy: 87.58000135421753%\n",
            "Training Loss: 0.22653187843544015\n",
            "Testing Loss: 0.3947450160790401\n",
            "epoch: 18\n",
            "Test Accuracy: 88.0299985408783%\n",
            "Training Loss: 0.22685104411548135\n",
            "Testing Loss: 0.3873124087976802\n",
            "epoch: 19\n",
            "Test Accuracy: 88.02000284194946%\n",
            "Training Loss: 0.21835915759793603\n",
            "Testing Loss: 0.38081688187114754\n"
          ],
          "name": "stdout"
        }
      ]
    },
    {
      "metadata": {
        "id": "5rwvblhes3T4",
        "colab_type": "code",
        "colab": {}
      },
      "cell_type": "code",
      "source": [
        "%matplotlib inline\n",
        "%config InlineBackend.figure_format = 'retina'\n",
        "\n",
        "import matplotlib.pyplot as plt"
      ],
      "execution_count": 0,
      "outputs": []
    },
    {
      "metadata": {
        "id": "-dv39HLWI-9z",
        "colab_type": "code",
        "colab": {}
      },
      "cell_type": "code",
      "source": [
        ""
      ],
      "execution_count": 0,
      "outputs": []
    },
    {
      "metadata": {
        "id": "iw4q3lN6s5fZ",
        "colab_type": "code",
        "colab": {
          "base_uri": "https://localhost:8080/",
          "height": 282
        },
        "outputId": "3f7233cd-c253-4f4c-f6a1-db49c8e092f9"
      },
      "cell_type": "code",
      "source": [
        "plt.plot(train_losses, label='Training loss')\n",
        "plt.plot(test_losses, label='Validation loss')\n",
        "plt.legend(frameon=False)"
      ],
      "execution_count": 8,
      "outputs": [
        {
          "output_type": "execute_result",
          "data": {
            "text/plain": [
              "<matplotlib.legend.Legend at 0x7fc912553550>"
            ]
          },
          "metadata": {
            "tags": []
          },
          "execution_count": 8
        },
        {
          "output_type": "display_data",
          "data": {
            "image/png": "[encoded data removed]",
            "text/plain": [
              "<matplotlib.figure.Figure at 0x7fc9126b9898>"
            ]
          },
          "metadata": {
            "tags": [],
            "image/png": {
              "width": 375,
              "height": 248
            }
          }
        }
      ]
    },
    {
      "metadata": {
        "id": "reFW4RT3u8Iv",
        "colab_type": "text"
      },
      "cell_type": "markdown",
      "source": [
        "**Using Dropout**"
      ]
    },
    {
      "metadata": {
        "id": "D7NNpFkjvSRW",
        "colab_type": "code",
        "colab": {
          "base_uri": "https://localhost:8080/",
          "height": 1394
        },
        "outputId": "90fbacb9-59c6-485b-efb7-94c655ef0ff7"
      },
      "cell_type": "code",
      "source": [
        "from torch import optim\n",
        "from torch import nn\n",
        "import torch.nn.functional as F\n",
        "model = nn.Sequential(nn.Linear(784,128),\n",
        "                     nn.ReLU(),\n",
        "                     nn.Dropout(p=0.2),\n",
        "                     nn.Linear(128,64),\n",
        "                     nn.ReLU(),\n",
        "                     nn.Dropout(p=0.2),\n",
        "                     nn.Linear(64,10)\n",
        "                     )\n",
        "#Should increase hidden layers as FMNIST dataset is complex\n",
        "optimizer = optim.Adam(model.parameters(), lr=0.003) \n",
        "# or optim.Adam (faster fitting, different learning rates, gives momemtum...)\n",
        "\n",
        "#This criterion combines nn.LogSoftmax() and nn.NLLLoss() in one single class.\n",
        "criterion = nn.CrossEntropyLoss()\n",
        "print('lenght of trainloader',len(trainloader))\n",
        "epochs = 20\n",
        "train_losses, test_losses = [], []\n",
        "for e in range(epochs):\n",
        "  running_loss = 0\n",
        "  for images, labels in trainloader:\n",
        "    images = images.view(images.shape[0], -1)\n",
        "    optimizer.zero_grad()\n",
        "  # Clear the gradients or else gradients are accumulated from previous training pass\n",
        "    output = model.forward(images)\n",
        "    loss = criterion(output,labels)\n",
        "    running_loss+=loss.item()\n",
        "    loss.backward()\n",
        "    optimizer.step()\n",
        "\n",
        "  else:\n",
        "    totalEquals = torch.tensor([], dtype=torch.uint8)\n",
        "    test_loss = 0\n",
        "    model.eval()\n",
        "    for images, labels in testloader:\n",
        "      images = images.view(images.shape[0],-1)\n",
        "      with torch.no_grad():\n",
        "        logits = model.forward(images)\n",
        "        #Get the class probabilities\n",
        "        test_loss += criterion(logits, labels).item() \n",
        "        ps = F.softmax(logits, dim=1)\n",
        "        top_p, top_class = ps.topk(1,dim=1)\n",
        "        equals = top_class == labels.view(*top_class.shape)\n",
        "        totalEquals = torch.cat((totalEquals,equals),0)\n",
        "    train_losses.append(running_loss/len(trainloader))\n",
        "    test_losses.append(test_loss/len(testloader))\n",
        "    totalAcc = torch.mean(totalEquals.type(torch.FloatTensor))\n",
        "    model.train()\n",
        "    print(f'epoch: {e}')\n",
        "    print(f'Test Accuracy: {totalAcc.item()*100}%')\n",
        "    \n",
        "    print('Training Loss:', running_loss/len(trainloader))\n",
        "    print('Testing Loss:', test_loss/len(testloader))"
      ],
      "execution_count": 11,
      "outputs": [
        {
          "output_type": "stream",
          "text": [
            "lenght of trainloader 938\n",
            "epoch: 0\n",
            "Test Accuracy: 82.05000162124634%\n",
            "Training Loss: 0.5829612889142433\n",
            "Testing Loss: 0.47679799358556224\n",
            "epoch: 1\n",
            "Test Accuracy: 84.14999842643738%\n",
            "Training Loss: 0.46340896956511396\n",
            "Testing Loss: 0.4261782833725024\n",
            "epoch: 2\n",
            "Test Accuracy: 84.50000286102295%\n",
            "Training Loss: 0.43659495419340094\n",
            "Testing Loss: 0.41613694864093875\n",
            "epoch: 3\n",
            "Test Accuracy: 84.74000096321106%\n",
            "Training Loss: 0.4205681201555073\n",
            "Testing Loss: 0.41802220483114766\n",
            "epoch: 4\n",
            "Test Accuracy: 85.87999939918518%\n",
            "Training Loss: 0.4036799362346308\n",
            "Testing Loss: 0.3942011141093673\n",
            "epoch: 5\n",
            "Test Accuracy: 86.58000230789185%\n",
            "Training Loss: 0.3905485955986387\n",
            "Testing Loss: 0.37805760874869715\n",
            "epoch: 6\n",
            "Test Accuracy: 85.44999957084656%\n",
            "Training Loss: 0.38061989148828523\n",
            "Testing Loss: 0.4007447679900819\n",
            "epoch: 7\n",
            "Test Accuracy: 86.0700011253357%\n",
            "Training Loss: 0.37283892203559243\n",
            "Testing Loss: 0.399256670930583\n",
            "epoch: 8\n",
            "Test Accuracy: 86.44999861717224%\n",
            "Training Loss: 0.3771077664549163\n",
            "Testing Loss: 0.3751426488161087\n",
            "epoch: 9\n",
            "Test Accuracy: 85.82000136375427%\n",
            "Training Loss: 0.3673478410378702\n",
            "Testing Loss: 0.39941057496389765\n",
            "epoch: 10\n",
            "Test Accuracy: 86.55999898910522%\n",
            "Training Loss: 0.36261123487912517\n",
            "Testing Loss: 0.3806136731699014\n",
            "epoch: 11\n",
            "Test Accuracy: 86.65000200271606%\n",
            "Training Loss: 0.3610546466892462\n",
            "Testing Loss: 0.3810109361816364\n",
            "epoch: 12\n",
            "Test Accuracy: 86.36999726295471%\n",
            "Training Loss: 0.3537827297520917\n",
            "Testing Loss: 0.37926304216977136\n",
            "epoch: 13\n",
            "Test Accuracy: 86.44999861717224%\n",
            "Training Loss: 0.35312264134634785\n",
            "Testing Loss: 0.37776001576025775\n",
            "epoch: 14\n",
            "Test Accuracy: 87.29000091552734%\n",
            "Training Loss: 0.34589140163238113\n",
            "Testing Loss: 0.35401152472966796\n",
            "epoch: 15\n",
            "Test Accuracy: 87.05000281333923%\n",
            "Training Loss: 0.34352301186653594\n",
            "Testing Loss: 0.371060649585572\n",
            "epoch: 16\n",
            "Test Accuracy: 87.3799979686737%\n",
            "Training Loss: 0.3452565874229235\n",
            "Testing Loss: 0.3646104131724424\n",
            "epoch: 17\n",
            "Test Accuracy: 86.21000051498413%\n",
            "Training Loss: 0.3389736119665698\n",
            "Testing Loss: 0.37507359607584156\n",
            "epoch: 18\n",
            "Test Accuracy: 87.09999918937683%\n",
            "Training Loss: 0.3376464571144535\n",
            "Testing Loss: 0.37466817771553235\n",
            "epoch: 19\n",
            "Test Accuracy: 86.71000003814697%\n",
            "Training Loss: 0.33533298575293535\n",
            "Testing Loss: 0.38893052840688425\n"
          ],
          "name": "stdout"
        }
      ]
    },
    {
      "metadata": {
        "id": "3lx7y2yqJAeR",
        "colab_type": "code",
        "colab": {
          "base_uri": "https://localhost:8080/",
          "height": 282
        },
        "outputId": "696ce8e2-31ed-4357-c6cb-69ac88f52ad8"
      },
      "cell_type": "code",
      "source": [
        "plt.plot(train_losses, label='Training loss')\n",
        "plt.plot(test_losses, label='Validation loss')\n",
        "plt.legend(frameon=False)"
      ],
      "execution_count": 13,
      "outputs": [
        {
          "output_type": "execute_result",
          "data": {
            "text/plain": [
              "<matplotlib.legend.Legend at 0x7fc90f35ce48>"
            ]
          },
          "metadata": {
            "tags": []
          },
          "execution_count": 13
        },
        {
          "output_type": "display_data",
          "data": {
            "image/png": "[encoded data removed]",
            "text/plain": [
              "<matplotlib.figure.Figure at 0x7fc90f3a8978>"
            ]
          },
          "metadata": {
            "tags": [],
            "image/png": {
              "width": 375,
              "height": 248
            }
          }
        }
      ]
    },
    {
      "metadata": {
        "id": "yA01uFDtJqXD",
        "colab_type": "code",
        "colab": {
          "base_uri": "https://localhost:8080/",
          "height": 2247
        },
        "outputId": "84931efd-b1ab-4b54-bd5a-c8b5eb7ceecb"
      },
      "cell_type": "code",
      "source": [
        "print(\"Our model:\\n\\n\", model,'\\n')\n",
        "print(\"The state dict keys:\\n\\n\", model.state_dict().keys())\n",
        "print(model.state_dict())"
      ],
      "execution_count": 20,
      "outputs": [
        {
          "output_type": "stream",
          "text": [
            "Our model:\n",
            "\n",
            " Sequential(\n",
            "  (0): Linear(in_features=784, out_features=128, bias=True)\n",
            "  (1): ReLU()\n",
            "  (2): Dropout(p=0.2)\n",
            "  (3): Linear(in_features=128, out_features=64, bias=True)\n",
            "  (4): ReLU()\n",
            "  (5): Dropout(p=0.2)\n",
            "  (6): Linear(in_features=64, out_features=10, bias=True)\n",
            ") \n",
            "\n",
            "The state dict keys:\n",
            "\n",
            " odict_keys(['0.weight', '0.bias', '3.weight', '3.bias', '6.weight', '6.bias'])\n",
            "OrderedDict([('0.weight', tensor([[-0.1977, -0.2037, -0.1665,  ..., -0.2903, -0.2370, -0.2017],\n",
            "        [ 0.2806,  0.2763,  0.2806,  ...,  0.3373,  0.1607,  0.2669],\n",
            "        [ 0.2186,  0.2128,  0.1894,  ...,  0.1928,  0.2113,  0.2164],\n",
            "        ...,\n",
            "        [ 0.0316,  0.0316,  0.0259,  ...,  0.2059,  0.0968,  0.0648],\n",
            "        [ 0.1446,  0.1802,  0.1884,  ...,  0.0987,  0.1665,  0.1495],\n",
            "        [ 0.1295,  0.1394,  0.0920,  ...,  0.0882,  0.1673,  0.1350]])), ('0.bias', tensor([ 0.2119, -0.3110, -0.1963, -0.1473,  0.0149, -0.1118, -0.0738, -0.2344,\n",
            "        -0.3372, -0.0544, -0.1662, -0.1901, -0.3209, -0.2794, -0.0451,  0.0415,\n",
            "        -0.1087, -0.0321, -0.1619, -0.2228, -0.0536, -0.2127, -0.1660, -0.1174,\n",
            "        -0.2180, -0.0180, -0.0312, -0.2066, -0.3982, -0.2339,  0.0716, -0.2211,\n",
            "        -0.0994, -0.2684, -0.1350, -0.1155, -0.1556, -0.1552, -0.2352, -0.2428,\n",
            "         0.0166, -0.1232, -0.1284, -0.1617, -0.1570, -0.1085, -0.1400, -0.0227,\n",
            "         0.0072, -0.0991, -0.1716, -0.0609, -0.1955, -0.2364, -0.1478, -0.1599,\n",
            "        -0.1275, -0.0590, -0.2508, -0.3681, -0.2333, -0.1266, -0.1726,  0.2878,\n",
            "        -0.0316, -0.0098, -0.0695, -0.1575, -0.1436, -0.1074, -0.2281,  0.0875,\n",
            "        -0.1387, -0.1504, -0.2465, -0.0846, -0.1615, -0.1111, -0.2986, -0.0917,\n",
            "        -0.2513, -0.1266, -0.2935, -0.1242, -0.3168, -0.1969, -0.1084, -0.0855,\n",
            "        -0.3855, -0.1550, -0.1421,  0.1168, -0.0318, -0.2625, -0.2233, -0.1778,\n",
            "        -0.1809, -0.0296, -0.0001, -0.0944, -0.4244, -0.1424, -0.1059, -0.3952,\n",
            "        -0.0519, -0.2142, -0.0510, -0.2841, -0.0326, -0.1970,  0.0079, -0.0212,\n",
            "        -0.2348, -0.0224, -0.0602, -0.3448,  0.1530,  0.0013, -0.0967,  0.0413,\n",
            "        -0.2315, -0.3673, -0.1441, -0.2840, -0.0045, -0.0624, -0.1330, -0.1016])), ('3.weight', tensor([[-0.5566, -0.1705, -0.0573,  ..., -0.1144, -0.4835, -0.1686],\n",
            "        [-0.1377, -0.1501, -0.2728,  ..., -0.0965, -0.0412,  0.1058],\n",
            "        [ 0.1326, -0.4465,  0.1092,  ..., -0.3380,  0.0512, -0.0038],\n",
            "        ...,\n",
            "        [ 0.0127,  0.1812, -0.4424,  ..., -0.2247, -0.1024,  0.3891],\n",
            "        [ 0.0428, -0.3733, -0.2626,  ..., -0.0535, -0.2503,  0.1851],\n",
            "        [-0.2569, -0.0295,  0.2342,  ...,  0.2256, -0.2190, -0.2446]])), ('3.bias', tensor([ 0.1055,  0.5036,  1.2221,  0.9620,  0.5229, -0.3066,  0.2788, -0.1210,\n",
            "         0.7445,  0.7544,  0.2470,  0.6881,  1.3032,  0.4256, -0.9273,  0.8017,\n",
            "         0.0219,  0.9550,  0.7988,  0.3636, -0.0731,  0.3620,  0.3165,  0.7833,\n",
            "         0.8960,  1.1456,  0.8411,  0.1228,  0.3766,  0.4562,  1.1868,  0.3641,\n",
            "         0.9111,  0.9803,  0.1784,  0.2362,  0.2269, -0.4043, -0.4137, -0.3643,\n",
            "         0.7631, -0.2743,  0.8903, -0.2675,  0.5257, -0.7035,  0.2894,  1.1615,\n",
            "         0.3348,  1.0389, -0.9700, -0.6323,  0.5003,  0.9185,  0.8962,  0.7816,\n",
            "         1.1057, -0.2064,  0.3963,  0.0984,  0.3801,  1.0958,  0.2794,  0.2496])), ('6.weight', tensor([[ 0.1324, -0.0013, -0.3543,  0.0458,  0.0050, -0.1812, -0.3465,  0.0628,\n",
            "         -0.2167, -0.0936,  0.0328,  0.0358, -0.0522, -0.1097, -0.1284, -0.2258,\n",
            "          0.0398, -0.1100, -0.2119,  0.0257,  0.0476, -0.3948,  0.0206, -0.6574,\n",
            "         -0.0493,  0.0906, -0.0693,  0.0174, -0.1834,  0.1540,  0.1203,  0.0796,\n",
            "         -0.6396, -0.1564,  0.0069, -0.1589, -0.1504,  0.0239,  0.0045, -0.3014,\n",
            "         -0.0108, -0.3425, -0.5636, -0.2335, -0.1190, -0.1686,  0.0280, -0.1595,\n",
            "          0.0628, -0.0306,  0.0140, -0.1672,  0.1031,  0.0279,  0.0239, -0.0864,\n",
            "         -0.1571, -0.1762, -0.2693, -0.0253, -0.2398,  0.1119,  0.0828,  0.0763],\n",
            "        [ 0.1910, -0.4045, -0.3352, -0.1472,  0.0215,  0.0367, -0.6131,  0.1866,\n",
            "         -0.0605, -0.3459, -0.1228,  0.0995, -0.0926,  0.0132,  0.0879, -0.1136,\n",
            "          0.1324, -0.0580,  0.0199, -0.2735, -0.3319, -0.3461,  0.0393, -0.9350,\n",
            "          0.1279, -0.0821, -0.0902, -0.1527, -0.2012, -0.2398, -0.2401,  0.0233,\n",
            "         -1.0167, -0.4408,  0.3009,  0.0442, -0.1484, -0.5848,  0.1005, -0.0238,\n",
            "          0.0236, -0.1852, -0.4499,  0.0006, -0.2192, -0.2587, -0.3356, -0.1083,\n",
            "         -0.2163,  0.0131, -0.3010, -0.1402,  0.1107, -0.0660,  0.0070, -0.0277,\n",
            "         -0.3791, -0.6029, -0.6664,  0.1400, -0.0253, -0.2776, -0.0675,  0.0969],\n",
            "        [-0.0329,  0.0377, -0.1720, -0.0165,  0.0517, -0.3483, -0.1928, -0.1268,\n",
            "          0.1022,  0.0553, -0.0730, -0.0728,  0.0591,  0.0355, -0.1086, -0.3127,\n",
            "          0.0360, -0.1090, -0.0347,  0.0051, -0.2646,  0.1105,  0.0124, -0.7539,\n",
            "          0.1123,  0.1121,  0.1051,  0.1025,  0.0777,  0.0154,  0.1474, -0.1031,\n",
            "         -0.6446,  0.1644, -0.0263, -0.2398,  0.1271, -0.0774, -0.1133, -0.2881,\n",
            "          0.0147, -0.4282, -0.2851, -0.1808, -0.2270, -0.3623, -0.0599, -0.0711,\n",
            "          0.0060,  0.1335,  0.0349, -0.3658,  0.1329,  0.0387, -0.0963, -0.1170,\n",
            "          0.1077, -0.0412, -0.1132, -0.0319, -0.0044,  0.0656, -0.0389, -0.1408],\n",
            "        [ 0.0081,  0.0500, -0.0675, -0.0810,  0.0849, -0.1809, -0.2388,  0.1892,\n",
            "         -0.1232, -0.1486, -0.1797, -0.0230,  0.0872,  0.0493, -0.0604, -0.1518,\n",
            "         -0.1001,  0.0528, -0.0442, -0.1993, -0.2017, -0.4246,  0.0172, -0.7345,\n",
            "         -0.1106, -0.0625, -0.1800,  0.1186, -0.0109,  0.0792, -0.0773,  0.0869,\n",
            "         -0.7484, -0.0186, -0.0819, -0.1603, -0.2143, -0.0456, -0.1081, -0.1049,\n",
            "          0.1034, -0.1900, -0.4422, -0.2286, -0.0697, -0.3053, -0.1112,  0.0128,\n",
            "          0.0194,  0.1043, -0.2075, -0.4820,  0.1191, -0.1796,  0.0627,  0.0818,\n",
            "         -0.3406, -0.1327, -0.2989,  0.1000,  0.1369, -0.1445, -0.1236,  0.0388],\n",
            "        [-0.0416, -0.0158, -0.0001,  0.1042, -0.0635, -0.0743, -0.2928, -0.0449,\n",
            "         -0.0385,  0.0307, -0.2397,  0.0083,  0.1156,  0.0766,  0.0314, -0.3572,\n",
            "         -0.0307,  0.0324,  0.0984,  0.0868, -0.0255,  0.1177,  0.1407, -1.0396,\n",
            "          0.0911, -0.0500,  0.1081,  0.0314,  0.0807, -0.2013, -0.0070, -0.1595,\n",
            "         -0.5268,  0.1591,  0.0810, -0.2584,  0.0998, -0.2899, -0.0318, -0.1762,\n",
            "          0.1149, -0.4144, -0.3309, -0.2159, -0.2250, -0.3114,  0.0274, -0.0954,\n",
            "         -0.1412,  0.0164, -0.2464, -0.1507, -0.0197, -0.1538, -0.0789, -0.0199,\n",
            "          0.0701, -0.0874, -0.2153,  0.0820,  0.1114, -0.0615, -0.0703, -0.1714],\n",
            "        [-0.4262, -0.1552, -0.0869, -0.6811, -0.1750, -0.0098,  0.1616, -0.1206,\n",
            "         -0.8236, -0.1383, -0.3980, -0.0379, -0.2163, -0.2237, -0.2806,  0.0728,\n",
            "         -0.6308,  0.0813, -0.0944, -0.1021,  0.0678, -0.1453, -0.0184, -0.0860,\n",
            "         -0.4873, -0.0798, -0.3009, -0.0536, -0.0021, -0.2555, -0.6721,  0.0328,\n",
            "          0.1542, -0.1554,  0.0688, -0.0457, -0.0410, -0.2448,  0.1377, -0.1131,\n",
            "         -1.2260,  0.1332,  0.0106, -0.1089,  0.1482,  0.0788, -0.0103,  0.0541,\n",
            "         -0.4658, -0.0499,  0.1339, -0.2420, -0.8553,  0.0733, -0.0863,  0.1388,\n",
            "         -0.1743,  0.0293,  0.1361, -0.0942, -0.1531, -0.2905,  0.0834, -0.9156],\n",
            "        [ 0.0914,  0.1060, -0.0833,  0.1046, -0.0755, -0.3424, -0.2453,  0.0757,\n",
            "          0.0508,  0.0881, -0.0081, -0.2752, -0.0234, -0.0733, -0.0660, -0.1438,\n",
            "         -0.0180, -0.1290, -0.0545, -0.0140, -0.0390,  0.0639,  0.0814, -0.7806,\n",
            "          0.0041,  0.1106, -0.0151,  0.0160, -0.1159,  0.1434,  0.1028,  0.0644,\n",
            "         -0.4596,  0.1327,  0.1023, -0.2429, -0.1192, -0.0453,  0.0681, -0.1310,\n",
            "          0.0877, -0.2399, -0.4773, -0.2104, -0.1568, -0.2777,  0.0305, -0.1208,\n",
            "         -0.0350,  0.0024, -0.0456, -0.1771,  0.0117,  0.0076, -0.0672, -0.0371,\n",
            "          0.0295, -0.0976, -0.2070, -0.0227,  0.1111,  0.0716,  0.0534,  0.0026],\n",
            "        [-0.5322, -0.2624,  0.0419, -1.1404, -0.0937,  0.0410,  0.1679, -0.1741,\n",
            "         -0.8068,  0.0067, -0.2181,  0.1525, -0.2750, -0.0929, -0.2594,  0.1576,\n",
            "         -0.6209,  0.0631,  0.0272, -0.3120, -0.0346, -0.3592, -0.2025,  0.0871,\n",
            "         -0.4003,  0.0499, -0.5363, -0.0484,  0.0424, -0.3507, -0.9597, -0.2890,\n",
            "          0.1439, -0.3798, -0.0330,  0.1082, -0.0974,  0.0211, -0.0653,  0.0037,\n",
            "         -1.2715, -0.0025,  0.0716, -0.0264,  0.1387, -0.0251,  0.0348,  0.0734,\n",
            "         -0.5801, -0.2052,  0.0590, -0.0794, -1.1298, -0.0748, -0.1648,  0.1455,\n",
            "         -0.3841, -0.2175,  0.0958, -0.2277, -0.0209, -0.5674, -0.0743, -0.9313],\n",
            "        [-0.3441, -0.1148, -0.2055,  0.0158,  0.1118, -0.3525, -0.4131, -0.0979,\n",
            "         -0.4739,  0.1638, -0.4253,  0.0531,  0.1191,  0.1477, -0.0823,  0.0938,\n",
            "         -0.2059, -0.1407, -0.0739,  0.1245,  0.1012, -0.4125,  0.0455, -0.0905,\n",
            "         -0.1772, -0.0074, -0.0083, -0.0983, -0.2061,  0.0002, -0.2069, -0.2768,\n",
            "         -0.0727, -0.2644,  0.1122, -0.1799, -0.2017, -0.2114, -0.1127, -0.1224,\n",
            "         -0.2976, -0.1488, -0.2902, -0.0478,  0.0850, -0.1504,  0.1042, -0.0314,\n",
            "         -0.3292, -0.0587,  0.0293, -0.0475, -0.0685, -0.0065,  0.0657, -0.0113,\n",
            "          0.0258,  0.0171,  0.0557, -0.0691, -0.3944,  0.0693,  0.0877, -0.1919],\n",
            "        [-0.3255, -0.6501, -0.0748, -0.9622, -0.4151,  0.1407,  0.1580, -0.2040,\n",
            "         -0.4374,  0.0061, -0.3148,  0.0297, -0.1157, -0.0974, -0.2120,  0.0769,\n",
            "         -0.5780, -0.1405,  0.0730, -0.0242, -0.0629, -0.7041, -0.3533,  0.0745,\n",
            "         -0.5568, -0.0504, -0.6910,  0.0610,  0.1703, -0.4980, -0.9628, -0.0103,\n",
            "          0.1434, -0.6566, -0.0699,  0.1172,  0.0787, -0.0068,  0.0106, -0.1136,\n",
            "         -1.0298,  0.1239,  0.1357, -0.1411, -0.0101,  0.0684, -0.3389, -0.1441,\n",
            "         -0.4336, -0.2011,  0.0910, -0.0680, -0.7732, -0.0970, -0.4491, -0.0966,\n",
            "         -0.5528, -0.2505,  0.0600, -0.0432, -0.1979, -0.3858,  0.0951, -1.1666]])), ('6.bias', tensor([-0.0578, -1.0867,  0.1497,  0.3180,  0.1863, -0.1934,  0.0539,  0.3415,\n",
            "        -0.0211, -0.4926]))])\n"
          ],
          "name": "stdout"
        }
      ]
    },
    {
      "metadata": {
        "id": "47qz3v41LLj8",
        "colab_type": "code",
        "colab": {}
      },
      "cell_type": "code",
      "source": [
        "torch.save(model.state_dict(),'checkpoint.pth')\n",
        "state_dict = torch.load('checkpoint.pth')\n",
        "model.load_state_dict(state_dict)\n"
      ],
      "execution_count": 0,
      "outputs": []
    },
    {
      "metadata": {
        "id": "RBjjYrHLNI8B",
        "colab_type": "code",
        "colab": {
          "base_uri": "https://localhost:8080/",
          "height": 350
        },
        "outputId": "334d6d3e-21ca-4504-f859-bc053fef6786"
      },
      "cell_type": "code",
      "source": [
        "checkpoint = {'input_size': 784,\n",
        "              'output_size': 10,\n",
        "              'hidden_layers': [each.out_features for each in model.hidden_layers],\n",
        "              'state_dict': model.state_dict()}\n",
        "\n",
        "torch.save(checkpoint, 'checkpoint.pth')"
      ],
      "execution_count": 19,
      "outputs": [
        {
          "output_type": "error",
          "ename": "AttributeError",
          "evalue": "ignored",
          "traceback": [
            "\u001b[0;31m---------------------------------------------------------------------------\u001b[0m",
            "\u001b[0;31mAttributeError\u001b[0m                            Traceback (most recent call last)",
            "\u001b[0;32m<ipython-input-19-1d54688e17bf>\u001b[0m in \u001b[0;36m<module>\u001b[0;34m()\u001b[0m\n\u001b[1;32m      1\u001b[0m checkpoint = {'input_size': 784,\n\u001b[1;32m      2\u001b[0m               \u001b[0;34m'output_size'\u001b[0m\u001b[0;34m:\u001b[0m \u001b[0;36m10\u001b[0m\u001b[0;34m,\u001b[0m\u001b[0;34m\u001b[0m\u001b[0;34m\u001b[0m\u001b[0m\n\u001b[0;32m----> 3\u001b[0;31m               \u001b[0;34m'hidden_layers'\u001b[0m\u001b[0;34m:\u001b[0m \u001b[0;34m[\u001b[0m\u001b[0meach\u001b[0m\u001b[0;34m.\u001b[0m\u001b[0mout_features\u001b[0m \u001b[0;32mfor\u001b[0m \u001b[0meach\u001b[0m \u001b[0;32min\u001b[0m \u001b[0mmodel\u001b[0m\u001b[0;34m.\u001b[0m\u001b[0mhidden_layers\u001b[0m\u001b[0;34m]\u001b[0m\u001b[0;34m,\u001b[0m\u001b[0;34m\u001b[0m\u001b[0;34m\u001b[0m\u001b[0m\n\u001b[0m\u001b[1;32m      4\u001b[0m               'state_dict': model.state_dict()}\n\u001b[1;32m      5\u001b[0m \u001b[0;34m\u001b[0m\u001b[0m\n",
            "\u001b[0;32m/usr/local/lib/python3.6/dist-packages/torch/nn/modules/module.py\u001b[0m in \u001b[0;36m__getattr__\u001b[0;34m(self, name)\u001b[0m\n\u001b[1;32m    516\u001b[0m                 \u001b[0;32mreturn\u001b[0m \u001b[0mmodules\u001b[0m\u001b[0;34m[\u001b[0m\u001b[0mname\u001b[0m\u001b[0;34m]\u001b[0m\u001b[0;34m\u001b[0m\u001b[0;34m\u001b[0m\u001b[0m\n\u001b[1;32m    517\u001b[0m         raise AttributeError(\"'{}' object has no attribute '{}'\".format(\n\u001b[0;32m--> 518\u001b[0;31m             type(self).__name__, name))\n\u001b[0m\u001b[1;32m    519\u001b[0m \u001b[0;34m\u001b[0m\u001b[0m\n\u001b[1;32m    520\u001b[0m     \u001b[0;32mdef\u001b[0m \u001b[0m__setattr__\u001b[0m\u001b[0;34m(\u001b[0m\u001b[0mself\u001b[0m\u001b[0;34m,\u001b[0m \u001b[0mname\u001b[0m\u001b[0;34m,\u001b[0m \u001b[0mvalue\u001b[0m\u001b[0;34m)\u001b[0m\u001b[0;34m:\u001b[0m\u001b[0;34m\u001b[0m\u001b[0;34m\u001b[0m\u001b[0m\n",
            "\u001b[0;31mAttributeError\u001b[0m: 'Sequential' object has no attribute 'hidden_layers'"
          ]
        }
      ]
    },
    {
      "metadata": {
        "id": "AOjK1WSrMqFi",
        "colab_type": "code",
        "colab": {
          "base_uri": "https://localhost:8080/",
          "height": 299
        },
        "outputId": "72fce6ba-8e15-4bf2-93ac-334080fb3ea2"
      },
      "cell_type": "code",
      "source": [
        "import fc_model"
      ],
      "execution_count": 22,
      "outputs": [
        {
          "output_type": "error",
          "ename": "ModuleNotFoundError",
          "evalue": "ignored",
          "traceback": [
            "\u001b[0;31m---------------------------------------------------------------------------\u001b[0m",
            "\u001b[0;31mModuleNotFoundError\u001b[0m                       Traceback (most recent call last)",
            "\u001b[0;32m<ipython-input-22-b505d3f1f152>\u001b[0m in \u001b[0;36m<module>\u001b[0;34m()\u001b[0m\n\u001b[0;32m----> 1\u001b[0;31m \u001b[0;32mimport\u001b[0m \u001b[0mfc_model\u001b[0m\u001b[0;34m\u001b[0m\u001b[0;34m\u001b[0m\u001b[0m\n\u001b[0m",
            "\u001b[0;31mModuleNotFoundError\u001b[0m: No module named 'fc_model'",
            "",
            "\u001b[0;31m---------------------------------------------------------------------------\u001b[0;32m\nNOTE: If your import is failing due to a missing package, you can\nmanually install dependencies using either !pip or !apt.\n\nTo view examples of installing some common dependencies, click the\n\"Open Examples\" button below.\n\u001b[0;31m---------------------------------------------------------------------------\u001b[0m\n"
          ]
        }
      ]
    }
  ]
}