{
  "nbformat": 4,
  "nbformat_minor": 0,
  "metadata": {
    "colab": {
      "name": "Fashion-MNIST.ipynb",
      "version": "0.3.2",
      "provenance": [],
      "include_colab_link": true
    },
    "kernelspec": {
      "name": "python3",
      "display_name": "Python 3"
    }
  },
  "cells": [
    {
      "cell_type": "markdown",
      "metadata": {
        "id": "view-in-github",
        "colab_type": "text"
      },
      "source": [
        "<a href=\"https://colab.research.google.com/github/Biboswan/TrainingNN_PytorchIntro/blob/master/Fashion_MNIST.ipynb\" target=\"_parent\"><img src=\"https://colab.research.google.com/assets/colab-badge.svg\" alt=\"Open In Colab\"/></a>"
      ]
    },
    {
      "metadata": {
        "id": "S_1fNxxKpR3c",
        "colab_type": "code",
        "colab": {}
      },
      "cell_type": "code",
      "source": [
        "# http://pytorch.org/\n",
        "from os.path import exists\n",
        "from wheel.pep425tags import get_abbr_impl, get_impl_ver, get_abi_tag\n",
        "platform = '{}{}-{}'.format(get_abbr_impl(), get_impl_ver(), get_abi_tag())\n",
        "cuda_output = !ldconfig -p|grep cudart.so|sed -e 's/.*\\.\\([0-9]*\\)\\.\\([0-9]*\\)$/cu\\1\\2/'\n",
        "accelerator = cuda_output[0] if exists('/dev/nvidia0') else 'cpu'\n",
        "\n",
        "!pip install -q http://download.pytorch.org/whl/{accelerator}/torch-0.4.1-{platform}-linux_x86_64.whl torchvision\n",
        "import torch"
      ],
      "execution_count": 0,
      "outputs": []
    },
    {
      "metadata": {
        "id": "gQ7uRYZoqShz",
        "colab_type": "code",
        "colab": {}
      },
      "cell_type": "code",
      "source": [
        "%matplotlib inline\n",
        "%config InlineBackend.figure_format = 'retina'\n",
        "import numpy as np\n",
        "import matplotlib.pyplot as plt\n",
        "\n"
      ],
      "execution_count": 0,
      "outputs": []
    },
    {
      "metadata": {
        "id": "ItngSTgbtnWA",
        "colab_type": "code",
        "colab": {
          "base_uri": "https://localhost:8080/",
          "height": 34
        },
        "outputId": "1acece5c-6b6b-43e2-e120-f2651c9e86c1"
      },
      "cell_type": "code",
      "source": [
        "torch.manual_seed(7)"
      ],
      "execution_count": 3,
      "outputs": [
        {
          "output_type": "execute_result",
          "data": {
            "text/plain": [
              "<torch._C.Generator at 0x7fc7bf9bb0b0>"
            ]
          },
          "metadata": {
            "tags": []
          },
          "execution_count": 3
        }
      ]
    },
    {
      "metadata": {
        "id": "WdvOd-o7qiJf",
        "colab_type": "code",
        "colab": {
          "base_uri": "https://localhost:8080/",
          "height": 119
        },
        "outputId": "d5ae4ac8-70f5-4129-d0db-9a9e52ccbfa5"
      },
      "cell_type": "code",
      "source": [
        "from torchvision import datasets,transforms\n",
        "\n",
        "transform = transforms.Compose([transforms.ToTensor(), transforms.Normalize((0.5,0.5,0.5), (0.5,0.5,0.5)),])\n",
        "\n",
        "trainset = datasets.FashionMNIST('FashionMNSIT_data/',download=True, train=True, transform=transform)\n",
        "trainloader = torch.utils.data.DataLoader(trainset, batch_size=64, shuffle=True)\n"
      ],
      "execution_count": 4,
      "outputs": [
        {
          "output_type": "stream",
          "text": [
            "Downloading http://fashion-mnist.s3-website.eu-central-1.amazonaws.com/train-images-idx3-ubyte.gz\n",
            "Downloading http://fashion-mnist.s3-website.eu-central-1.amazonaws.com/train-labels-idx1-ubyte.gz\n",
            "Downloading http://fashion-mnist.s3-website.eu-central-1.amazonaws.com/t10k-images-idx3-ubyte.gz\n",
            "Downloading http://fashion-mnist.s3-website.eu-central-1.amazonaws.com/t10k-labels-idx1-ubyte.gz\n",
            "Processing...\n",
            "Done!\n"
          ],
          "name": "stdout"
        }
      ]
    },
    {
      "metadata": {
        "id": "NG2RkIZetrxH",
        "colab_type": "code",
        "colab": {}
      },
      "cell_type": "code",
      "source": [
        "images, labels = next(iter(trainloader))\n"
      ],
      "execution_count": 0,
      "outputs": []
    },
    {
      "metadata": {
        "id": "SnN_lPQPuMJF",
        "colab_type": "code",
        "colab": {
          "base_uri": "https://localhost:8080/",
          "height": 1955
        },
        "outputId": "cf9094f6-a731-48ae-e534-c36fd57bc0c6"
      },
      "cell_type": "code",
      "source": [
        "print(images.shape)\n",
        "print(labels.shape)\n",
        "print(images[0])"
      ],
      "execution_count": 9,
      "outputs": [
        {
          "output_type": "stream",
          "text": [
            "torch.Size([64, 1, 28, 28])\n",
            "torch.Size([64])\n",
            "tensor([[[-1.0000, -1.0000, -1.0000, -1.0000, -1.0000, -1.0000, -1.0000,\n",
            "          -1.0000, -1.0000, -1.0000, -0.0353,  0.2549, -0.0510, -0.0353,\n",
            "           0.0039, -0.1216,  0.5216,  0.7333, -1.0000, -1.0000, -1.0000,\n",
            "          -1.0000, -0.9922, -1.0000, -1.0000, -1.0000, -1.0000, -1.0000],\n",
            "         [-1.0000, -1.0000, -1.0000, -1.0000, -1.0000, -1.0000, -1.0000,\n",
            "          -1.0000, -0.7490,  0.1843,  0.5765,  0.2549,  0.3961,  0.1451,\n",
            "          -0.0510,  0.0745,  0.5059,  0.4510, -0.1216, -0.9373, -1.0000,\n",
            "          -1.0000, -1.0000, -1.0000, -1.0000, -1.0000, -1.0000, -1.0000],\n",
            "         [-1.0000, -1.0000, -1.0000, -1.0000, -1.0000, -0.7412,  0.0039,\n",
            "           0.2706,  0.4902,  0.4510,  0.3255,  0.3490,  0.0745, -0.3725,\n",
            "          -0.6549, -0.0667,  0.0902,  0.2157,  0.5059,  0.4510,  0.3490,\n",
            "          -0.1765, -0.8902, -1.0000, -1.0000, -1.0000, -1.0000, -1.0000],\n",
            "         [-1.0000, -1.0000, -1.0000, -1.0000, -1.0000, -0.3882,  0.4902,\n",
            "           0.3647,  0.3098,  0.1451,  0.1608,  0.3647,  0.2157,  0.8588,\n",
            "           1.0000,  0.4196,  0.2157,  0.0588,  0.0196,  0.2549,  0.4196,\n",
            "           0.5059,  0.3647, -1.0000, -1.0000, -1.0000, -1.0000, -1.0000],\n",
            "         [-1.0000, -1.0000, -1.0000, -1.0000, -1.0000, -1.0000,  0.1608,\n",
            "           0.1294,  0.1451,  0.1686,  0.0588,  0.2157,  0.3098, -0.3882,\n",
            "          -0.4275,  0.4118,  0.0980,  0.0745,  0.0431,  0.0588,  0.0745,\n",
            "           0.2549, -0.3725, -1.0000, -1.0000, -1.0000, -1.0000, -1.0000],\n",
            "         [-1.0000, -1.0000, -1.0000, -1.0000, -1.0000, -1.0000, -0.0667,\n",
            "           0.1451,  0.0588,  0.1294,  0.1137,  0.0588,  0.3647,  0.1843,\n",
            "           0.1686,  0.3255,  0.1451,  0.2000,  0.0980,  0.0588, -0.0118,\n",
            "           0.1843, -0.9608, -1.0000, -1.0000, -1.0000, -1.0000, -1.0000],\n",
            "         [-1.0000, -1.0000, -1.0000, -1.0000, -1.0000, -1.0000, -0.4039,\n",
            "           0.2000,  0.0902,  0.1451,  0.0980,  0.0902,  0.0902,  0.3098,\n",
            "           0.3412,  0.0745,  0.0980,  0.1608,  0.1451,  0.1294,  0.1137,\n",
            "           0.0588, -1.0000, -1.0000, -1.0000, -1.0000, -1.0000, -1.0000],\n",
            "         [-1.0000, -1.0000, -1.0000, -1.0000, -1.0000, -1.0000, -0.6706,\n",
            "           0.1451,  0.0275,  0.1608,  0.0745,  0.0745,  0.0588,  0.0980,\n",
            "           0.2941,  0.1451,  0.1137,  0.1137,  0.1137,  0.1608,  0.2000,\n",
            "          -0.0980, -1.0000, -1.0000, -1.0000, -1.0000, -1.0000, -1.0000],\n",
            "         [-1.0000, -1.0000, -1.0000, -1.0000, -1.0000, -1.0000, -1.0000,\n",
            "           0.5451,  0.2000,  0.0431,  0.1137,  0.0275,  0.1137,  0.1137,\n",
            "           0.3804,  0.2157,  0.0588,  0.0902,  0.0588,  0.1608,  0.2941,\n",
            "          -0.2314, -1.0000, -1.0000, -1.0000, -1.0000, -1.0000, -1.0000],\n",
            "         [-1.0000, -1.0000, -1.0000, -1.0000, -1.0000, -1.0000, -1.0000,\n",
            "           0.3490,  0.5216,  0.2235,  0.0588,  0.0196,  0.0588,  0.1608,\n",
            "           0.2549,  0.1451, -0.0118, -0.0118,  0.0039,  0.2157,  0.4118,\n",
            "          -0.6706, -1.0000, -1.0000, -1.0000, -1.0000, -1.0000, -1.0000],\n",
            "         [-1.0000, -1.0000, -1.0000, -1.0000, -1.0000, -0.9922, -1.0000,\n",
            "          -0.6000,  0.4353,  0.3647,  0.1451,  0.0980,  0.0588,  0.0902,\n",
            "           0.0902,  0.2157,  0.0745,  0.0039,  0.0980,  0.3098,  0.2235,\n",
            "          -1.0000, -1.0000, -1.0000, -1.0000, -1.0000, -1.0000, -1.0000],\n",
            "         [-1.0000, -1.0000, -1.0000, -1.0000, -1.0000, -0.9608, -1.0000,\n",
            "          -1.0000,  0.2549,  0.5451,  0.1451,  0.1686,  0.2157,  0.0980,\n",
            "           0.3098,  0.1451,  0.1137,  0.1608,  0.2157,  0.4510,  0.0196,\n",
            "          -1.0000, -1.0000, -1.0000, -1.0000, -1.0000, -1.0000, -1.0000],\n",
            "         [-1.0000, -1.0000, -1.0000, -1.0000, -1.0000, -1.0000, -1.0000,\n",
            "          -1.0000,  0.2863,  0.5922,  0.1843,  0.1294,  0.2392,  0.1451,\n",
            "           0.2549,  0.1608,  0.1137,  0.1608,  0.2000,  0.4510, -0.2314,\n",
            "          -1.0000, -0.9765, -1.0000, -1.0000, -1.0000, -1.0000, -1.0000],\n",
            "         [-1.0000, -1.0000, -1.0000, -1.0000, -1.0000, -1.0000, -1.0000,\n",
            "          -1.0000,  0.5216,  0.5216,  0.3255,  0.0980,  0.0980,  0.3412,\n",
            "           0.3804,  0.2706,  0.0980,  0.1608,  0.2000,  0.4196, -0.4588,\n",
            "          -1.0000, -1.0000, -1.0000, -1.0000, -1.0000, -1.0000, -1.0000],\n",
            "         [-1.0000, -1.0000, -1.0000, -1.0000, -1.0000, -1.0000, -1.0000,\n",
            "          -1.0000,  0.4902,  0.4824,  0.3647,  0.1137,  0.1608,  0.1294,\n",
            "           0.0196,  0.2235,  0.1294,  0.1294,  0.2157,  0.3255, -0.8745,\n",
            "          -1.0000, -0.9922, -1.0000, -1.0000, -1.0000, -1.0000, -1.0000],\n",
            "         [-1.0000, -1.0000, -1.0000, -1.0000, -1.0000, -1.0000, -1.0000,\n",
            "          -1.0000,  0.1843,  0.4667,  0.3961,  0.1451,  0.0902,  0.1294,\n",
            "           0.2235,  0.2000,  0.1686,  0.0980,  0.2157,  0.2706, -1.0000,\n",
            "          -1.0000, -1.0000, -1.0000, -1.0000, -1.0000, -1.0000, -1.0000],\n",
            "         [-1.0000, -1.0000, -1.0000, -1.0000, -1.0000, -1.0000, -1.0000,\n",
            "          -1.0000,  0.0039,  0.4902,  0.3961,  0.1686,  0.1294,  0.1294,\n",
            "           0.3490,  0.2235,  0.2235,  0.0902,  0.1843,  0.3412, -0.8353,\n",
            "          -1.0000, -0.9922, -1.0000, -1.0000, -1.0000, -1.0000, -1.0000],\n",
            "         [-1.0000, -1.0000, -1.0000, -1.0000, -1.0000, -1.0000, -1.0000,\n",
            "          -1.0000, -0.0118,  0.5451,  0.3804,  0.1294,  0.1608,  0.2235,\n",
            "           0.2941,  0.2941,  0.3098,  0.0745,  0.1843,  0.3804, -0.3569,\n",
            "          -1.0000, -0.9922, -1.0000, -1.0000, -1.0000, -1.0000, -1.0000],\n",
            "         [-1.0000, -1.0000, -1.0000, -1.0000, -1.0000, -1.0000, -1.0000,\n",
            "          -1.0000,  0.1608,  0.5765,  0.4196,  0.1137,  0.2235,  0.0039,\n",
            "          -0.0510,  0.3804,  0.3412,  0.0980,  0.1608,  0.3412, -0.1765,\n",
            "          -1.0000, -1.0000, -1.0000, -1.0000, -1.0000, -1.0000, -1.0000],\n",
            "         [-1.0000, -1.0000, -1.0000, -1.0000, -1.0000, -0.9765, -1.0000,\n",
            "          -0.9765,  0.4196,  0.5373,  0.4196,  0.1451,  0.2235,  0.1843,\n",
            "           0.1137,  0.2706,  0.3804,  0.1137,  0.1137,  0.2941, -0.0824,\n",
            "          -1.0000, -1.0000, -1.0000, -1.0000, -1.0000, -1.0000, -1.0000],\n",
            "         [-1.0000, -1.0000, -1.0000, -1.0000, -1.0000, -0.9922, -1.0000,\n",
            "          -0.5843,  0.5922,  0.4902,  0.3647,  0.1137,  0.1843,  0.2157,\n",
            "           0.2706,  0.2706,  0.4118,  0.1608,  0.1294,  0.2706,  0.2549,\n",
            "          -1.0000, -1.0000, -1.0000, -1.0000, -1.0000, -1.0000, -1.0000],\n",
            "         [-1.0000, -1.0000, -1.0000, -1.0000, -1.0000, -1.0000, -1.0000,\n",
            "          -0.0667,  0.5765,  0.4902,  0.4196,  0.1608,  0.2235,  0.2863,\n",
            "           0.2941,  0.2863,  0.3804,  0.1686,  0.0980,  0.2235,  0.4824,\n",
            "          -1.0000, -1.0000, -1.0000, -1.0000, -1.0000, -1.0000, -1.0000],\n",
            "         [-1.0000, -1.0000, -1.0000, -1.0000, -1.0000, -1.0000, -1.0000,\n",
            "           0.4353,  0.5765,  0.4510,  0.4902,  0.1843,  0.2706,  0.1294,\n",
            "           0.0980,  0.3961,  0.3961,  0.2000,  0.1451,  0.2000,  0.2549,\n",
            "          -1.0000, -1.0000, -1.0000, -1.0000, -1.0000, -1.0000, -1.0000],\n",
            "         [-1.0000, -1.0000, -1.0000, -1.0000, -1.0000, -1.0000, -1.0000,\n",
            "           0.5216,  0.6078,  0.4824,  0.5059,  0.1843,  0.1686,  0.2941,\n",
            "           0.2941,  0.3961,  0.4118,  0.2000,  0.1608,  0.1843,  0.3098,\n",
            "          -0.7412, -1.0000, -1.0000, -1.0000, -1.0000, -1.0000, -1.0000],\n",
            "         [-1.0000, -1.0000, -1.0000, -1.0000, -1.0000, -1.0000, -0.6549,\n",
            "           0.5922,  0.4902,  0.4510,  0.4118,  0.2235,  0.1843,  0.2706,\n",
            "           0.2549,  0.4353,  0.4824,  0.2000,  0.1843,  0.2000,  0.3255,\n",
            "          -0.5451, -1.0000, -1.0000, -1.0000, -1.0000, -1.0000, -1.0000],\n",
            "         [-1.0000, -1.0000, -1.0000, -1.0000, -1.0000, -1.0000,  0.0588,\n",
            "           0.6078,  0.4118,  0.4510,  0.3098,  0.1608,  0.1451,  0.2706,\n",
            "           0.2392,  0.3647,  0.4353,  0.2941,  0.1686,  0.1843,  0.3412,\n",
            "          -0.0824, -1.0000, -1.0000, -1.0000, -1.0000, -1.0000, -1.0000],\n",
            "         [-1.0000, -1.0000, -1.0000, -1.0000, -1.0000, -1.0000, -0.6157,\n",
            "           0.5216,  0.6706,  0.5608,  0.5216,  0.4118,  0.4118,  0.5608,\n",
            "           0.5373,  0.6078,  0.6157,  0.5608,  0.3255,  0.2549,  0.4196,\n",
            "           0.0039, -1.0000, -1.0000, -1.0000, -1.0000, -1.0000, -1.0000],\n",
            "         [-1.0000, -1.0000, -1.0000, -1.0000, -1.0000, -1.0000, -1.0000,\n",
            "          -1.0000, -0.5137, -0.2235, -0.2471, -0.2314, -0.3020, -0.2941,\n",
            "          -0.3176, -0.1686, -0.0824,  0.0902,  0.0196, -0.1373, -0.5529,\n",
            "          -1.0000, -1.0000, -1.0000, -1.0000, -1.0000, -1.0000, -1.0000]]])\n"
          ],
          "name": "stdout"
        }
      ]
    },
    {
      "metadata": {
        "id": "kXj4PihytOBp",
        "colab_type": "code",
        "colab": {
          "base_uri": "https://localhost:8080/",
          "height": 282
        },
        "outputId": "54768a4c-8b44-4f1d-cdb6-f9f1d9fb6520"
      },
      "cell_type": "code",
      "source": [
        "plt.imshow(images[4].numpy().squeeze(), cmap='Greys_r')\n",
        "print(images[2][0][27][27])"
      ],
      "execution_count": 10,
      "outputs": [
        {
          "output_type": "stream",
          "text": [
            "tensor(-1.)\n"
          ],
          "name": "stdout"
        },
        {
          "output_type": "display_data",
          "data": {
            "image/png": "[encoded data removed]",
            "text/plain": [
              "<matplotlib.figure.Figure at 0x7fc7becf0908>"
            ]
          },
          "metadata": {
            "tags": [],
            "image/png": {
              "width": 249,
              "height": 248
            }
          }
        }
      ]
    },
    {
      "metadata": {
        "id": "QtaZyEW78hcN",
        "colab_type": "code",
        "colab": {
          "base_uri": "https://localhost:8080/",
          "height": 340
        },
        "outputId": "63418635-b637-455b-88e3-24cc04ecf521"
      },
      "cell_type": "code",
      "source": [
        "from torch import optim\n",
        "from torch import nn\n",
        "model = nn.Sequential(nn.Linear(784,128),\n",
        "                     nn.ReLU(),\n",
        "                     nn.Linear(128,64),\n",
        "                     nn.ReLU(),\n",
        "                     nn.Linear(64,10)\n",
        "                     )\n",
        "optimizer = optim.SGD(model.parameters(), lr=0.003)\n",
        "#This criterion combines nn.LogSoftmax() and nn.NLLLoss() in one single class.\n",
        "criterion = nn.CrossEntropyLoss()\n",
        "print('lenght of trainloader',len(trainloader))\n",
        "epochs = 18\n",
        "for e in range(epochs):\n",
        "  running_loss = 0\n",
        "  for images, labels in trainloader:\n",
        "    images = images.view(images.shape[0], -1)\n",
        "    optimizer.zero_grad()\n",
        "  # Clear the gradients or else gradients are accumulated from previous training pass\n",
        "    output = model.forward(images)\n",
        "    loss = criterion(output,labels)\n",
        "    running_loss+=loss.item()\n",
        "    loss.backward()\n",
        "    optimizer.step()\n",
        "\n",
        "  else:\n",
        "    print('Training Loss:', running_loss/len(trainloader))  \n",
        "    \n",
        "    \n"
      ],
      "execution_count": 14,
      "outputs": [
        {
          "output_type": "stream",
          "text": [
            "lenght of trainloader 938\n",
            "Training Loss: 1.6717975596502137\n",
            "Training Loss: 0.8521587360642358\n",
            "Training Loss: 0.6772314196647103\n",
            "Training Loss: 0.6087346089356489\n",
            "Training Loss: 0.5667096836162783\n",
            "Training Loss: 0.5369510973758026\n",
            "Training Loss: 0.5147913447829452\n",
            "Training Loss: 0.4971562677354955\n",
            "Training Loss: 0.48316800578443736\n",
            "Training Loss: 0.47123430982263864\n",
            "Training Loss: 0.46149442880265495\n",
            "Training Loss: 0.45270516008519923\n",
            "Training Loss: 0.44418970759171666\n",
            "Training Loss: 0.43710646061882025\n",
            "Training Loss: 0.43069962111871635\n",
            "Training Loss: 0.42466939375725893\n",
            "Training Loss: 0.41923009801203254\n",
            "Training Loss: 0.414069784459656\n"
          ],
          "name": "stdout"
        }
      ]
    },
    {
      "metadata": {
        "id": "_ZJSqLwpBJH2",
        "colab_type": "code",
        "colab": {}
      },
      "cell_type": "code",
      "source": [
        "import matplotlib.pyplot as plt\n",
        "import numpy as np\n",
        "from torch import nn, optim\n",
        "from torch.autograd import Variable\n",
        "\n",
        "\n",
        "def test_network(net, trainloader):\n",
        "\n",
        "    criterion = nn.MSELoss()\n",
        "    optimizer = optim.Adam(net.parameters(), lr=0.001)\n",
        "\n",
        "    dataiter = iter(trainloader)\n",
        "    images, labels = dataiter.next()\n",
        "\n",
        "    # Create Variables for the inputs and targets\n",
        "    inputs = Variable(images)\n",
        "    targets = Variable(images)\n",
        "\n",
        "    # Clear the gradients from all Variables\n",
        "    optimizer.zero_grad()\n",
        "\n",
        "    # Forward pass, then backward pass, then update weights\n",
        "    output = net.forward(inputs)\n",
        "    loss = criterion(output, targets)\n",
        "    loss.backward()\n",
        "    optimizer.step()\n",
        "\n",
        "    return True\n",
        "\n",
        "\n",
        "def imshow(image, ax=None, title=None, normalize=True):\n",
        "    \"\"\"Imshow for Tensor.\"\"\"\n",
        "    if ax is None:\n",
        "        fig, ax = plt.subplots()\n",
        "    image = image.numpy().transpose((1, 2, 0))\n",
        "\n",
        "    if normalize:\n",
        "        mean = np.array([0.485, 0.456, 0.406])\n",
        "        std = np.array([0.229, 0.224, 0.225])\n",
        "        image = std * image + mean\n",
        "        image = np.clip(image, 0, 1)\n",
        "\n",
        "    ax.imshow(image)\n",
        "    ax.spines['top'].set_visible(False)\n",
        "    ax.spines['right'].set_visible(False)\n",
        "    ax.spines['left'].set_visible(False)\n",
        "    ax.spines['bottom'].set_visible(False)\n",
        "    ax.tick_params(axis='both', length=0)\n",
        "    ax.set_xticklabels('')\n",
        "    ax.set_yticklabels('')\n",
        "\n",
        "    return ax\n",
        "\n",
        "\n",
        "def view_recon(img, recon):\n",
        "    ''' Function for displaying an image (as a PyTorch Tensor) and its\n",
        "        reconstruction also a PyTorch Tensor\n",
        "    '''\n",
        "\n",
        "    fig, axes = plt.subplots(ncols=2, sharex=True, sharey=True)\n",
        "    axes[0].imshow(img.numpy().squeeze())\n",
        "    axes[1].imshow(recon.data.numpy().squeeze())\n",
        "    for ax in axes:\n",
        "        ax.axis('off')\n",
        "        ax.set_adjustable('box-forced')\n",
        "\n",
        "def view_classify(img, ps, version=\"MNIST\"):\n",
        "    ''' Function for viewing an image and it's predicted classes.\n",
        "    '''\n",
        "    ps = ps.data.numpy().squeeze()\n",
        "\n",
        "    fig, (ax1, ax2) = plt.subplots(figsize=(6,9), ncols=2)\n",
        "    ax1.imshow(img.resize_(1, 28, 28).numpy().squeeze())\n",
        "    ax1.axis('off')\n",
        "    ax2.barh(np.arange(10), ps)\n",
        "    ax2.set_aspect(0.1)\n",
        "    ax2.set_yticks(np.arange(10))\n",
        "    if version == \"MNIST\":\n",
        "        ax2.set_yticklabels(np.arange(10))\n",
        "    elif version == \"Fashion\":\n",
        "        ax2.set_yticklabels(['T-shirt/top',\n",
        "                            'Trouser',\n",
        "                            'Pullover',\n",
        "                            'Dress',\n",
        "                            'Coat',\n",
        "                            'Sandal',\n",
        "                            'Shirt',\n",
        "                            'Sneaker',\n",
        "                            'Bag',\n",
        "                            'Ankle Boot'], size='small');\n",
        "    ax2.set_title('Class Probability')\n",
        "    ax2.set_xlim(0, 1.1)\n",
        "\n",
        "    plt.tight_layout()"
      ],
      "execution_count": 0,
      "outputs": []
    },
    {
      "metadata": {
        "id": "Jp7nAcrUB3k-",
        "colab_type": "text"
      },
      "cell_type": "markdown",
      "source": [
        "Labels for reference: https://github.com/zalandoresearch/fashion-mnist#labels"
      ]
    },
    {
      "metadata": {
        "id": "fFN4LSvdBXfr",
        "colab_type": "code",
        "colab": {
          "base_uri": "https://localhost:8080/",
          "height": 278
        },
        "outputId": "bf9539f2-80cc-463d-8f25-52562d4d4ea1"
      },
      "cell_type": "code",
      "source": [
        "%matplotlib inline\n",
        "import torch.nn.functional as F\n",
        "images, labels = next(iter(trainloader))\n",
        "img = images[25].view(1, 784)\n",
        "\n",
        "#Turn off gradient to speed up this prediction checking part\n",
        "with torch.no_grad():\n",
        "  logits = model.forward(img)\n",
        "  \n",
        "ps = F.softmax(logits, dim=1)\n",
        "print(ps)\n",
        "#plt.imshow(images[0].numpy().squeeze(), cmap='Greys_r')\n",
        "view_classify(img.view(1,28,28), ps)  "
      ],
      "execution_count": 18,
      "outputs": [
        {
          "output_type": "stream",
          "text": [
            "tensor([[0.0000, 0.0000, 0.0001, 0.0001, 0.0000, 0.0522, 0.0000, 0.8937, 0.0065,\n",
            "         0.0473]])\n"
          ],
          "name": "stdout"
        },
        {
          "output_type": "display_data",
          "data": {
            "image/png": "[encoded data removed]",
            "text/plain": [
              "<matplotlib.figure.Figure at 0x7fc7bee79908>"
            ]
          },
          "metadata": {
            "tags": [],
            "image/png": {
              "width": 424,
              "height": 227
            }
          }
        }
      ]
    }
  ]
}